{
 "cells": [
  {
   "cell_type": "code",
   "execution_count": 5,
   "metadata": {},
   "outputs": [],
   "source": [
    "import numpy as np\n",
    "import os\n",
    "import pandas as pd\n",
    "import matplotlib.pyplot as plt\n",
    "import tqdm\n",
    "from metrics import cindex"
   ]
  },
  {
   "cell_type": "markdown",
   "metadata": {},
   "source": [
    "# I - Let's download and visualize the data"
   ]
  },
  {
   "cell_type": "markdown",
   "metadata": {},
   "source": [
    "## I - A ) Download directories and labels"
   ]
  },
  {
   "cell_type": "code",
   "execution_count": 6,
   "metadata": {},
   "outputs": [],
   "source": [
    "train_root = 'training_data'\n",
    "test_root = 'test_data'\n",
    "archive = np.load(os.path.join(test_root,'images/patient_000.npz'))\n",
    "scan = archive['scan'] # a np.array\n",
    "mask = archive['mask'] # a np.array\n",
    "assert scan.shape==mask.shape"
   ]
  },
  {
   "cell_type": "code",
   "execution_count": 7,
   "metadata": {},
   "outputs": [
    {
     "data": {
      "text/html": [
       "<div>\n",
       "<style scoped>\n",
       "    .dataframe tbody tr th:only-of-type {\n",
       "        vertical-align: middle;\n",
       "    }\n",
       "\n",
       "    .dataframe tbody tr th {\n",
       "        vertical-align: top;\n",
       "    }\n",
       "\n",
       "    .dataframe thead th {\n",
       "        text-align: right;\n",
       "    }\n",
       "</style>\n",
       "<table border=\"1\" class=\"dataframe\">\n",
       "  <thead>\n",
       "    <tr style=\"text-align: right;\">\n",
       "      <th></th>\n",
       "      <th>SurvivalTime</th>\n",
       "      <th>Event</th>\n",
       "    </tr>\n",
       "    <tr>\n",
       "      <th>PatientID</th>\n",
       "      <th></th>\n",
       "      <th></th>\n",
       "    </tr>\n",
       "  </thead>\n",
       "  <tbody>\n",
       "    <tr>\n",
       "      <td>202</td>\n",
       "      <td>1378</td>\n",
       "      <td>0</td>\n",
       "    </tr>\n",
       "    <tr>\n",
       "      <td>371</td>\n",
       "      <td>379</td>\n",
       "      <td>1</td>\n",
       "    </tr>\n",
       "    <tr>\n",
       "      <td>246</td>\n",
       "      <td>573</td>\n",
       "      <td>1</td>\n",
       "    </tr>\n",
       "    <tr>\n",
       "      <td>240</td>\n",
       "      <td>959</td>\n",
       "      <td>0</td>\n",
       "    </tr>\n",
       "    <tr>\n",
       "      <td>284</td>\n",
       "      <td>2119</td>\n",
       "      <td>0</td>\n",
       "    </tr>\n",
       "  </tbody>\n",
       "</table>\n",
       "</div>"
      ],
      "text/plain": [
       "           SurvivalTime  Event\n",
       "PatientID                     \n",
       "202                1378      0\n",
       "371                 379      1\n",
       "246                 573      1\n",
       "240                 959      0\n",
       "284                2119      0"
      ]
     },
     "execution_count": 7,
     "metadata": {},
     "output_type": "execute_result"
    }
   ],
   "source": [
    "training_labels = pd.read_csv('training_labels.csv', index_col=0)\n",
    "training_labels.head()"
   ]
  },
  {
   "cell_type": "markdown",
   "metadata": {},
   "source": [
    "Let's visualize how should an output file look like :"
   ]
  },
  {
   "cell_type": "code",
   "execution_count": 8,
   "metadata": {},
   "outputs": [
    {
     "data": {
      "text/html": [
       "<div>\n",
       "<style scoped>\n",
       "    .dataframe tbody tr th:only-of-type {\n",
       "        vertical-align: middle;\n",
       "    }\n",
       "\n",
       "    .dataframe tbody tr th {\n",
       "        vertical-align: top;\n",
       "    }\n",
       "\n",
       "    .dataframe thead th {\n",
       "        text-align: right;\n",
       "    }\n",
       "</style>\n",
       "<table border=\"1\" class=\"dataframe\">\n",
       "  <thead>\n",
       "    <tr style=\"text-align: right;\">\n",
       "      <th></th>\n",
       "      <th>SurvivalTime</th>\n",
       "      <th>Event</th>\n",
       "    </tr>\n",
       "    <tr>\n",
       "      <th>PatientID</th>\n",
       "      <th></th>\n",
       "      <th></th>\n",
       "    </tr>\n",
       "  </thead>\n",
       "  <tbody>\n",
       "    <tr>\n",
       "      <td>13</td>\n",
       "      <td>788.417673</td>\n",
       "      <td>NaN</td>\n",
       "    </tr>\n",
       "    <tr>\n",
       "      <td>155</td>\n",
       "      <td>427.650092</td>\n",
       "      <td>NaN</td>\n",
       "    </tr>\n",
       "    <tr>\n",
       "      <td>404</td>\n",
       "      <td>173.587222</td>\n",
       "      <td>NaN</td>\n",
       "    </tr>\n",
       "    <tr>\n",
       "      <td>407</td>\n",
       "      <td>389.877973</td>\n",
       "      <td>NaN</td>\n",
       "    </tr>\n",
       "    <tr>\n",
       "      <td>9</td>\n",
       "      <td>1580.767244</td>\n",
       "      <td>NaN</td>\n",
       "    </tr>\n",
       "  </tbody>\n",
       "</table>\n",
       "</div>"
      ],
      "text/plain": [
       "           SurvivalTime  Event\n",
       "PatientID                     \n",
       "13           788.417673    NaN\n",
       "155          427.650092    NaN\n",
       "404          173.587222    NaN\n",
       "407          389.877973    NaN\n",
       "9           1580.767244    NaN"
      ]
     },
     "execution_count": 8,
     "metadata": {},
     "output_type": "execute_result"
    }
   ],
   "source": [
    "rdm_sub = pd.read_csv('random_submission.csv', index_col=0)\n",
    "rdm_sub.head()"
   ]
  },
  {
   "cell_type": "code",
   "execution_count": 9,
   "metadata": {},
   "outputs": [],
   "source": [
    "training_features_path = os.path.join(train_root,'features')\n",
    "clinical_data = pd.read_csv(os.path.join(training_features_path, 'clinical_data.csv'), index_col=0)\n",
    "radiomics = pd.read_csv(os.path.join(training_features_path, 'radiomics.csv'), index_col=0, skiprows=[0,2])\n",
    "radiomics.index.name = 'PatientID'\n",
    "\n",
    "# First, as we will use the origin of the data, we transform its values to make it an interger\n",
    "try:\n",
    "    clinical_data['SourceDataset'] = clinical_data['SourceDataset'].apply(lambda x: int(x[-1]))\n",
    "except:\n",
    "    pass\n",
    "#clinical_data.head() # SourceDataset, Nstage\n",
    "\n",
    "data = pd.concat([training_labels, clinical_data, radiomics], axis=1)"
   ]
  },
  {
   "cell_type": "code",
   "execution_count": 10,
   "metadata": {},
   "outputs": [
    {
     "data": {
      "text/html": [
       "<div>\n",
       "<style scoped>\n",
       "    .dataframe tbody tr th:only-of-type {\n",
       "        vertical-align: middle;\n",
       "    }\n",
       "\n",
       "    .dataframe tbody tr th {\n",
       "        vertical-align: top;\n",
       "    }\n",
       "\n",
       "    .dataframe thead th {\n",
       "        text-align: right;\n",
       "    }\n",
       "</style>\n",
       "<table border=\"1\" class=\"dataframe\">\n",
       "  <thead>\n",
       "    <tr style=\"text-align: right;\">\n",
       "      <th></th>\n",
       "      <th>SurvivalTime</th>\n",
       "      <th>Event</th>\n",
       "      <th>Histology</th>\n",
       "      <th>Mstage</th>\n",
       "      <th>Nstage</th>\n",
       "      <th>SourceDataset</th>\n",
       "      <th>Tstage</th>\n",
       "      <th>age</th>\n",
       "      <th>original_shape_Compactness1</th>\n",
       "      <th>original_shape_Compactness2</th>\n",
       "      <th>...</th>\n",
       "      <th>original_glrlm_LongRunEmphasis</th>\n",
       "      <th>original_glrlm_GrayLevelNonUniformity</th>\n",
       "      <th>original_glrlm_RunLengthNonUniformity</th>\n",
       "      <th>original_glrlm_RunPercentage</th>\n",
       "      <th>original_glrlm_LowGrayLevelRunEmphasis</th>\n",
       "      <th>original_glrlm_HighGrayLevelRunEmphasis</th>\n",
       "      <th>original_glrlm_ShortRunLowGrayLevelEmphasis</th>\n",
       "      <th>original_glrlm_ShortRunHighGrayLevelEmphasis</th>\n",
       "      <th>original_glrlm_LongRunLowGrayLevelEmphasis</th>\n",
       "      <th>original_glrlm_LongRunHighGrayLevelEmphasis</th>\n",
       "    </tr>\n",
       "    <tr>\n",
       "      <th>PatientID</th>\n",
       "      <th></th>\n",
       "      <th></th>\n",
       "      <th></th>\n",
       "      <th></th>\n",
       "      <th></th>\n",
       "      <th></th>\n",
       "      <th></th>\n",
       "      <th></th>\n",
       "      <th></th>\n",
       "      <th></th>\n",
       "      <th></th>\n",
       "      <th></th>\n",
       "      <th></th>\n",
       "      <th></th>\n",
       "      <th></th>\n",
       "      <th></th>\n",
       "      <th></th>\n",
       "      <th></th>\n",
       "      <th></th>\n",
       "      <th></th>\n",
       "      <th></th>\n",
       "    </tr>\n",
       "  </thead>\n",
       "  <tbody>\n",
       "    <tr>\n",
       "      <td>202</td>\n",
       "      <td>1378</td>\n",
       "      <td>0</td>\n",
       "      <td>Adenocarcinoma</td>\n",
       "      <td>0</td>\n",
       "      <td>0</td>\n",
       "      <td>2</td>\n",
       "      <td>2</td>\n",
       "      <td>66.0000</td>\n",
       "      <td>0.027815</td>\n",
       "      <td>0.274892</td>\n",
       "      <td>...</td>\n",
       "      <td>1.457980</td>\n",
       "      <td>555.378594</td>\n",
       "      <td>14592.303727</td>\n",
       "      <td>0.891330</td>\n",
       "      <td>0.003562</td>\n",
       "      <td>954.749135</td>\n",
       "      <td>0.003384</td>\n",
       "      <td>851.987373</td>\n",
       "      <td>0.004444</td>\n",
       "      <td>1651.710761</td>\n",
       "    </tr>\n",
       "    <tr>\n",
       "      <td>371</td>\n",
       "      <td>379</td>\n",
       "      <td>1</td>\n",
       "      <td>large cell</td>\n",
       "      <td>0</td>\n",
       "      <td>2</td>\n",
       "      <td>1</td>\n",
       "      <td>4</td>\n",
       "      <td>64.5722</td>\n",
       "      <td>0.023015</td>\n",
       "      <td>0.188210</td>\n",
       "      <td>...</td>\n",
       "      <td>2.512125</td>\n",
       "      <td>1766.619373</td>\n",
       "      <td>22881.932686</td>\n",
       "      <td>0.766032</td>\n",
       "      <td>0.002246</td>\n",
       "      <td>1092.823724</td>\n",
       "      <td>0.002069</td>\n",
       "      <td>884.838627</td>\n",
       "      <td>0.003633</td>\n",
       "      <td>3386.995589</td>\n",
       "    </tr>\n",
       "    <tr>\n",
       "      <td>246</td>\n",
       "      <td>573</td>\n",
       "      <td>1</td>\n",
       "      <td>squamous cell carcinoma</td>\n",
       "      <td>0</td>\n",
       "      <td>3</td>\n",
       "      <td>1</td>\n",
       "      <td>2</td>\n",
       "      <td>66.0452</td>\n",
       "      <td>0.027348</td>\n",
       "      <td>0.265740</td>\n",
       "      <td>...</td>\n",
       "      <td>4.096838</td>\n",
       "      <td>3462.816344</td>\n",
       "      <td>18773.106002</td>\n",
       "      <td>0.644554</td>\n",
       "      <td>0.001880</td>\n",
       "      <td>878.989601</td>\n",
       "      <td>0.001635</td>\n",
       "      <td>634.910036</td>\n",
       "      <td>0.004869</td>\n",
       "      <td>4232.418080</td>\n",
       "    </tr>\n",
       "    <tr>\n",
       "      <td>240</td>\n",
       "      <td>959</td>\n",
       "      <td>0</td>\n",
       "      <td>nos</td>\n",
       "      <td>0</td>\n",
       "      <td>2</td>\n",
       "      <td>1</td>\n",
       "      <td>3</td>\n",
       "      <td>59.3566</td>\n",
       "      <td>0.026811</td>\n",
       "      <td>0.255406</td>\n",
       "      <td>...</td>\n",
       "      <td>1.824328</td>\n",
       "      <td>683.869792</td>\n",
       "      <td>7978.285176</td>\n",
       "      <td>0.828138</td>\n",
       "      <td>0.002855</td>\n",
       "      <td>907.045929</td>\n",
       "      <td>0.002680</td>\n",
       "      <td>774.885387</td>\n",
       "      <td>0.003901</td>\n",
       "      <td>1844.746046</td>\n",
       "    </tr>\n",
       "    <tr>\n",
       "      <td>284</td>\n",
       "      <td>2119</td>\n",
       "      <td>0</td>\n",
       "      <td>squamous cell carcinoma</td>\n",
       "      <td>0</td>\n",
       "      <td>3</td>\n",
       "      <td>1</td>\n",
       "      <td>4</td>\n",
       "      <td>71.0554</td>\n",
       "      <td>0.023691</td>\n",
       "      <td>0.199424</td>\n",
       "      <td>...</td>\n",
       "      <td>2.652580</td>\n",
       "      <td>962.094760</td>\n",
       "      <td>7520.054910</td>\n",
       "      <td>0.734898</td>\n",
       "      <td>0.006710</td>\n",
       "      <td>1513.420445</td>\n",
       "      <td>0.004704</td>\n",
       "      <td>1197.140900</td>\n",
       "      <td>0.023273</td>\n",
       "      <td>4444.272812</td>\n",
       "    </tr>\n",
       "  </tbody>\n",
       "</table>\n",
       "<p>5 rows × 61 columns</p>\n",
       "</div>"
      ],
      "text/plain": [
       "           SurvivalTime  Event                Histology  Mstage  Nstage  \\\n",
       "PatientID                                                                 \n",
       "202                1378      0           Adenocarcinoma       0       0   \n",
       "371                 379      1               large cell       0       2   \n",
       "246                 573      1  squamous cell carcinoma       0       3   \n",
       "240                 959      0                      nos       0       2   \n",
       "284                2119      0  squamous cell carcinoma       0       3   \n",
       "\n",
       "           SourceDataset  Tstage      age  original_shape_Compactness1  \\\n",
       "PatientID                                                                \n",
       "202                    2       2  66.0000                     0.027815   \n",
       "371                    1       4  64.5722                     0.023015   \n",
       "246                    1       2  66.0452                     0.027348   \n",
       "240                    1       3  59.3566                     0.026811   \n",
       "284                    1       4  71.0554                     0.023691   \n",
       "\n",
       "           original_shape_Compactness2  ...  original_glrlm_LongRunEmphasis  \\\n",
       "PatientID                               ...                                   \n",
       "202                           0.274892  ...                        1.457980   \n",
       "371                           0.188210  ...                        2.512125   \n",
       "246                           0.265740  ...                        4.096838   \n",
       "240                           0.255406  ...                        1.824328   \n",
       "284                           0.199424  ...                        2.652580   \n",
       "\n",
       "           original_glrlm_GrayLevelNonUniformity  \\\n",
       "PatientID                                          \n",
       "202                                   555.378594   \n",
       "371                                  1766.619373   \n",
       "246                                  3462.816344   \n",
       "240                                   683.869792   \n",
       "284                                   962.094760   \n",
       "\n",
       "           original_glrlm_RunLengthNonUniformity  \\\n",
       "PatientID                                          \n",
       "202                                 14592.303727   \n",
       "371                                 22881.932686   \n",
       "246                                 18773.106002   \n",
       "240                                  7978.285176   \n",
       "284                                  7520.054910   \n",
       "\n",
       "           original_glrlm_RunPercentage  \\\n",
       "PatientID                                 \n",
       "202                            0.891330   \n",
       "371                            0.766032   \n",
       "246                            0.644554   \n",
       "240                            0.828138   \n",
       "284                            0.734898   \n",
       "\n",
       "           original_glrlm_LowGrayLevelRunEmphasis  \\\n",
       "PatientID                                           \n",
       "202                                      0.003562   \n",
       "371                                      0.002246   \n",
       "246                                      0.001880   \n",
       "240                                      0.002855   \n",
       "284                                      0.006710   \n",
       "\n",
       "           original_glrlm_HighGrayLevelRunEmphasis  \\\n",
       "PatientID                                            \n",
       "202                                     954.749135   \n",
       "371                                    1092.823724   \n",
       "246                                     878.989601   \n",
       "240                                     907.045929   \n",
       "284                                    1513.420445   \n",
       "\n",
       "           original_glrlm_ShortRunLowGrayLevelEmphasis  \\\n",
       "PatientID                                                \n",
       "202                                           0.003384   \n",
       "371                                           0.002069   \n",
       "246                                           0.001635   \n",
       "240                                           0.002680   \n",
       "284                                           0.004704   \n",
       "\n",
       "           original_glrlm_ShortRunHighGrayLevelEmphasis  \\\n",
       "PatientID                                                 \n",
       "202                                          851.987373   \n",
       "371                                          884.838627   \n",
       "246                                          634.910036   \n",
       "240                                          774.885387   \n",
       "284                                         1197.140900   \n",
       "\n",
       "           original_glrlm_LongRunLowGrayLevelEmphasis  \\\n",
       "PatientID                                               \n",
       "202                                          0.004444   \n",
       "371                                          0.003633   \n",
       "246                                          0.004869   \n",
       "240                                          0.003901   \n",
       "284                                          0.023273   \n",
       "\n",
       "           original_glrlm_LongRunHighGrayLevelEmphasis  \n",
       "PatientID                                               \n",
       "202                                        1651.710761  \n",
       "371                                        3386.995589  \n",
       "246                                        4232.418080  \n",
       "240                                        1844.746046  \n",
       "284                                        4444.272812  \n",
       "\n",
       "[5 rows x 61 columns]"
      ]
     },
     "execution_count": 10,
     "metadata": {},
     "output_type": "execute_result"
    }
   ],
   "source": [
    "data.head()"
   ]
  },
  {
   "cell_type": "markdown",
   "metadata": {},
   "source": [
    "---\n",
    "\n",
    "## I - B ) Have a look at the images"
   ]
  },
  {
   "cell_type": "code",
   "execution_count": 11,
   "metadata": {},
   "outputs": [
    {
     "name": "stdout",
     "output_type": "stream",
     "text": [
      "[-1023 -1021 -1019 ...   511   550   561]\n"
     ]
    }
   ],
   "source": [
    "# How is the image encoded ?\n",
    "print(np.unique(scan))"
   ]
  },
  {
   "cell_type": "markdown",
   "metadata": {},
   "source": [
    "> The images are encoded in 10 bits, however to visualize it we need to have pixel values in [0, 255] (we use a min-max transformation).\n",
    "\n",
    "> Actually, during the process we came across the value of 2105 in the scan ! Thus a transormation min/max can be wiser even though it changes the initial values of the scans (meaning that 2 same values from 2 different images can result in the same value after rescaling them)."
   ]
  },
  {
   "cell_type": "code",
   "execution_count": 156,
   "metadata": {},
   "outputs": [],
   "source": [
    "def to_pixel_values(scan):\n",
    "    \"\"\"\n",
    "    From a scan encoded in [-1024, 1024], we want to rescale it to [0, 255] in order to plot it.\n",
    "    \"\"\"\n",
    "    max_value = np.max(scan) # 1023\n",
    "    min_value = np.min(scan) # -1024\n",
    "\n",
    "    new_scan = 255*(1.*scan-min_value)/(max_value-min_value)\n",
    "    new_scan = new_scan.astype(int)\n",
    "    \n",
    "    return new_scan"
   ]
  },
  {
   "cell_type": "code",
   "execution_count": 13,
   "metadata": {},
   "outputs": [],
   "source": [
    "import io\n",
    "import base64\n",
    "from IPython.display import HTML\n",
    "import skvideo.io\n",
    "\n",
    "# display videos\n",
    "def display_videos(name):\n",
    "    \"\"\"\n",
    "    Input: str\n",
    "        The name of the video to show in this notebook.\n",
    "    \"\"\"\n",
    "    video = io.open(name, 'r+b').read()\n",
    "    encoded = base64.b64encode(video)\n",
    "    return '''<video width=\"320\" height=\"240\" controls>\n",
    "                <source src=\"data:video/mp4;base64,{0}\" type=\"video/mp4\" />\n",
    "             </video>'''.format(encoded.decode('ascii'))"
   ]
  },
  {
   "cell_type": "code",
   "execution_count": 14,
   "metadata": {},
   "outputs": [
    {
     "name": "stdout",
     "output_type": "stream",
     "text": [
      "Here is the CT SCAN :\n"
     ]
    },
    {
     "data": {
      "text/html": [
       "<video width=\"320\" height=\"240\" controls>\n",
       "                <source src=\"data:video/mp4;base64,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\" type=\"video/mp4\" />\n",
       "             </video>"
      ],
      "text/plain": [
       "<IPython.core.display.HTML object>"
      ]
     },
     "execution_count": 14,
     "metadata": {},
     "output_type": "execute_result"
    }
   ],
   "source": [
    "print('Here is the CT SCAN :')\n",
    "skvideo.io.vwrite('CT_SCAN.mp4', to_pixel_values(scan))\n",
    "HTML(display_videos('CT_SCAN.mp4'))"
   ]
  },
  {
   "cell_type": "code",
   "execution_count": 15,
   "metadata": {},
   "outputs": [
    {
     "name": "stdout",
     "output_type": "stream",
     "text": [
      "Here is the mask of this CT SCAN :\n"
     ]
    },
    {
     "data": {
      "text/html": [
       "<video width=\"320\" height=\"240\" controls>\n",
       "                <source src=\"data:video/mp4;base64,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\" type=\"video/mp4\" />\n",
       "             </video>"
      ],
      "text/plain": [
       "<IPython.core.display.HTML object>"
      ]
     },
     "execution_count": 15,
     "metadata": {},
     "output_type": "execute_result"
    }
   ],
   "source": [
    "print('Here is the mask of this CT SCAN :')\n",
    "skvideo.io.vwrite('MASK.mp4', mask.astype(int)*255)\n",
    "HTML(display_videos('MASK.mp4'))"
   ]
  },
  {
   "cell_type": "code",
   "execution_count": 16,
   "metadata": {},
   "outputs": [
    {
     "name": "stdout",
     "output_type": "stream",
     "text": [
      "Here is the masked CT SCAN on which we only visualize the tumor cell :\n"
     ]
    },
    {
     "data": {
      "text/html": [
       "<video width=\"320\" height=\"240\" controls>\n",
       "                <source src=\"data:video/mp4;base64,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\" type=\"video/mp4\" />\n",
       "             </video>"
      ],
      "text/plain": [
       "<IPython.core.display.HTML object>"
      ]
     },
     "execution_count": 16,
     "metadata": {},
     "output_type": "execute_result"
    }
   ],
   "source": [
    "print('Here is the masked CT SCAN on which we only visualize the tumor cell :')\n",
    "skvideo.io.vwrite('MASKED_IMG.mp4', to_pixel_values(scan)*mask.astype(int))\n",
    "HTML(display_videos('MASKED_IMG.mp4'))"
   ]
  },
  {
   "cell_type": "markdown",
   "metadata": {},
   "source": [
    " "
   ]
  },
  {
   "cell_type": "markdown",
   "metadata": {},
   "source": [
    "Do we have masks for all test images ? "
   ]
  },
  {
   "cell_type": "code",
   "execution_count": 17,
   "metadata": {},
   "outputs": [],
   "source": [
    "for root in [train_root, test_root]:\n",
    "    for img_path in os.listdir(os.path.join(root,'images')):\n",
    "        archv = np.load(os.path.join(os.path.join(root,'images'),img_path))\n",
    "        try :\n",
    "            archv['mask']\n",
    "        except:\n",
    "            print('No masks for {}'.format(img_path))"
   ]
  },
  {
   "cell_type": "markdown",
   "metadata": {},
   "source": [
    "As we have all masks, we won't train a NN to find them on images and no need to use an attention based NN since we already have the masks (first assumption, we might come back to this later). If we didn't, we could have used a RetinaNet for instance."
   ]
  },
  {
   "cell_type": "markdown",
   "metadata": {},
   "source": [
    "---\n",
    "\n",
    "## I - C ) Survival curves and dependencies"
   ]
  },
  {
   "cell_type": "markdown",
   "metadata": {},
   "source": [
    "Many considerations could be added in this part and if I had more time and worked on a totally new project with data never seen before, I would have proposed a thorough analysis for this part. Nevertheless, I will try to print some important figures and try to get to know the dataset a little bit.\n",
    "\n",
    "A very first thing to do is to clean up the `Histology` column :"
   ]
  },
  {
   "cell_type": "code",
   "execution_count": 18,
   "metadata": {},
   "outputs": [
    {
     "name": "stdout",
     "output_type": "stream",
     "text": [
      "Number of Ade in the dataset : 101,\t proportion = 33.67%\n",
      "Number of LCC in the dataset : 61,\t proportion = 20.33%\n",
      "Number of SCC in the dataset : 78,\t proportion = 26.00%\n",
      "Number of mix in the dataset : 60,\t proportion = 20.00%\n"
     ]
    }
   ],
   "source": [
    "### What are the current classes ?\n",
    "known_classes = np.unique(data['Histology'].astype(str))\n",
    "# > ['Adenocarcinoma', 'NSCLC NOS (not otherwise specified)',\n",
    "#       'Squamous cell carcinoma', 'adenocarcinoma', 'large cell', 'nan',\n",
    "#       'nos', 'squamous cell carcinoma']\n",
    "\n",
    "# Let's manually clean it :\n",
    "histo_array = np.array(data['Histology'].astype(str)).copy()\n",
    "for idx in range(len(histo_array)):\n",
    "    if histo_array[idx]=='adenocarcinoma' or histo_array[idx]=='Adenocarcinoma':\n",
    "        histo_array[idx] = 'Ade'\n",
    "    elif histo_array[idx]=='NSCLC NOS (not otherwise specified)' or histo_array[idx]=='nan' \\\n",
    "                                                                or histo_array[idx]=='nos':\n",
    "        histo_array[idx] = 'mix'\n",
    "    elif histo_array[idx]=='Squamous cell carcinoma' or histo_array[idx]=='squamous cell carcinoma':\n",
    "        histo_array[idx] = 'SCC'\n",
    "    elif histo_array[idx]=='large cell':\n",
    "        histo_array[idx] = 'LCC'\n",
    "        \n",
    "values, proportions = np.unique(histo_array,return_counts=True)\n",
    "for idx, value in enumerate(values):\n",
    "    print('Number of {} in the dataset : {},\\t proportion = {:.2f}%'.format(value, proportions[idx],\n",
    "                                                             100*float(proportions[idx])/np.sum(proportions)))\n",
    "    \n",
    "data['Histology'] = pd.DataFrame(histo_array, columns=['Histology'], index=data.index)"
   ]
  },
  {
   "cell_type": "code",
   "execution_count": 19,
   "metadata": {},
   "outputs": [
    {
     "data": {
      "image/png": "[encoded data removed]",
      "text/plain": [
       "<Figure size 1440x720 with 49 Axes>"
      ]
     },
     "metadata": {
      "needs_background": "light"
     },
     "output_type": "display_data"
    }
   ],
   "source": [
    "from pandas.plotting import scatter_matrix\n",
    "attributes = ['SurvivalTime', 'Event', 'Mstage', 'Nstage','SourceDataset', 'Tstage', 'age']\n",
    "scatter_matrix(data[attributes], figsize=(20,10));"
   ]
  },
  {
   "cell_type": "markdown",
   "metadata": {},
   "source": [
    "> We don't visualize many impressive correlations, but as we want to predict `SurvivalTime`, `N Stage` seems to have a high impact. Additionnaly, `N Stage`and `T stage` seem to have pretty much the same distributions (Then why do we take `N Stage` in the predictions insted of `T Stage` ?)."
   ]
  },
  {
   "cell_type": "markdown",
   "metadata": {},
   "source": [
    "Then, let's have a look at the proportion of patients that went off the study :"
   ]
  },
  {
   "cell_type": "code",
   "execution_count": 20,
   "metadata": {},
   "outputs": [
    {
     "name": "stdout",
     "output_type": "stream",
     "text": [
      "138 patients escaped the study   : proportion of 46.0%\n",
      "162 patients stayed in the study : proportion of 54.0%\n"
     ]
    }
   ],
   "source": [
    "present_patients = np.array(data['Event'])\n",
    "values = np.unique(present_patients,return_counts=True)[1]\n",
    "proportions = 100*values/np.sum(values)\n",
    "print('{} patients escaped the study   : proportion of {}%'.format(values[0],proportions[0]))\n",
    "print('{} patients stayed in the study : proportion of {}%'.format(values[1],proportions[1]))"
   ]
  },
  {
   "cell_type": "markdown",
   "metadata": {},
   "source": [
    "> Interesting for later considerations to notice that this is pretty balanced."
   ]
  },
  {
   "cell_type": "markdown",
   "metadata": {},
   "source": [
    "Let's plot Kaplan Meier survival curves :"
   ]
  },
  {
   "cell_type": "code",
   "execution_count": 21,
   "metadata": {},
   "outputs": [
    {
     "data": {
      "image/png": "[encoded data removed]",
      "text/plain": [
       "<Figure size 432x288 with 1 Axes>"
      ]
     },
     "metadata": {
      "needs_background": "light"
     },
     "output_type": "display_data"
    }
   ],
   "source": [
    "from lifelines import KaplanMeierFitter\n",
    "kmf = KaplanMeierFitter() \n",
    "kmf.fit(data['SurvivalTime'], data['Event'], label='Kaplan Meier Estimate')\n",
    "kmf.plot();"
   ]
  },
  {
   "cell_type": "markdown",
   "metadata": {},
   "source": [
    "> This is somehow a standard survival curve..."
   ]
  },
  {
   "cell_type": "markdown",
   "metadata": {},
   "source": [
    "We also want to have an idea of the importance of the histology in the survival predictions :"
   ]
  },
  {
   "cell_type": "code",
   "execution_count": 22,
   "metadata": {},
   "outputs": [
    {
     "data": {
      "image/png": "[encoded data removed]",
      "text/plain": [
       "<Figure size 432x288 with 1 Axes>"
      ]
     },
     "metadata": {
      "needs_background": "light"
     },
     "output_type": "display_data"
    }
   ],
   "source": [
    "kmf = KaplanMeierFitter()\n",
    "histo_data = data[data['Histology']=='Ade']\n",
    "kmf.fit(histo_data['SurvivalTime'], histo_data['Event'], label='Ade')\n",
    "a = kmf.plot(ci_show=False)\n",
    "for histo_class in ['LCC','SCC','mix']:\n",
    "    histo_data = data[data['Histology']==histo_class]\n",
    "    kmf.fit(histo_data['SurvivalTime'], histo_data['Event'], label=histo_class)\n",
    "    kmf.plot(ax=a,ci_show=False)"
   ]
  },
  {
   "cell_type": "markdown",
   "metadata": {},
   "source": [
    "> Thus, it seems that depending on the `Histology`, a patient doesn't have the same survival properties. This might actually be of great interest when we will try to train our own model. Indeed, training it to predict the `Histology` might not infer in a too useless representation of the images for the survival prediction made by a cox model.\n",
    "\n",
    "> Moreover, according to these curves we might be able to create a correct encoding for these text values. A common issue in text encoding is that 2 values encoded with the numbers 1 and 2 will be understood by the model as being closer to each other than 2 values encoded 1 and 4. Thus we could use OneHotEncoding, or according to the curves presented above, we can say that $$[Ade, LCC, SCC, mix]\\ \\ ->  [0, 2, 1, 3]$$ could be a good encoding since the curve are ranked in this order."
   ]
  },
  {
   "cell_type": "markdown",
   "metadata": {},
   "source": [
    "Let's encode our data :"
   ]
  },
  {
   "cell_type": "code",
   "execution_count": 23,
   "metadata": {},
   "outputs": [],
   "source": [
    "# Let's manually encode it :\n",
    "histo_array = np.array(data['Histology']).copy()\n",
    "for idx in range(len(histo_array)):\n",
    "    if histo_array[idx]=='Ade':\n",
    "        histo_array[idx] = 0\n",
    "    elif histo_array[idx]=='LCC':\n",
    "        histo_array[idx] = 2\n",
    "    elif histo_array[idx]=='SCC':\n",
    "        histo_array[idx] = 1\n",
    "    elif histo_array[idx]=='mix':\n",
    "        histo_array[idx] = 3\n",
    "        \n",
    "data['Histology'] = pd.DataFrame(histo_array, columns=['Histology'], index=data.index).astype(int)"
   ]
  },
  {
   "cell_type": "markdown",
   "metadata": {},
   "source": [
    " "
   ]
  },
  {
   "cell_type": "markdown",
   "metadata": {},
   "source": [
    " "
   ]
  },
  {
   "cell_type": "markdown",
   "metadata": {},
   "source": [
    " "
   ]
  },
  {
   "cell_type": "markdown",
   "metadata": {},
   "source": [
    " "
   ]
  },
  {
   "cell_type": "markdown",
   "metadata": {},
   "source": [
    " "
   ]
  },
  {
   "cell_type": "markdown",
   "metadata": {},
   "source": [
    "---\n",
    "---\n",
    "---\n",
    "\n",
    "# II - Use a cox model to fit the data and get predictions"
   ]
  },
  {
   "cell_type": "code",
   "execution_count": 24,
   "metadata": {},
   "outputs": [],
   "source": [
    "from lifelines import CoxPHFitter\n",
    "import sksurv\n",
    "from sksurv.linear_model import CoxPHSurvivalAnalysis"
   ]
  },
  {
   "cell_type": "markdown",
   "metadata": {},
   "source": [
    "## II - A ) Use the cox model from scikit-survival library"
   ]
  },
  {
   "cell_type": "markdown",
   "metadata": {},
   "source": [
    "### II - A - 1) Without using the images -> try to get the results presented on the web page of the challenge."
   ]
  },
  {
   "cell_type": "markdown",
   "metadata": {},
   "source": [
    "Let's know train a simple model only using the 53 features and clinical data :"
   ]
  },
  {
   "cell_type": "code",
   "execution_count": 25,
   "metadata": {},
   "outputs": [
    {
     "data": {
      "text/html": [
       "<div>\n",
       "<style scoped>\n",
       "    .dataframe tbody tr th:only-of-type {\n",
       "        vertical-align: middle;\n",
       "    }\n",
       "\n",
       "    .dataframe tbody tr th {\n",
       "        vertical-align: top;\n",
       "    }\n",
       "\n",
       "    .dataframe thead th {\n",
       "        text-align: right;\n",
       "    }\n",
       "</style>\n",
       "<table border=\"1\" class=\"dataframe\">\n",
       "  <thead>\n",
       "    <tr style=\"text-align: right;\">\n",
       "      <th></th>\n",
       "      <th>Histology</th>\n",
       "      <th>Mstage</th>\n",
       "      <th>Nstage</th>\n",
       "      <th>SourceDataset</th>\n",
       "      <th>Tstage</th>\n",
       "      <th>age</th>\n",
       "    </tr>\n",
       "    <tr>\n",
       "      <th>PatientID</th>\n",
       "      <th></th>\n",
       "      <th></th>\n",
       "      <th></th>\n",
       "      <th></th>\n",
       "      <th></th>\n",
       "      <th></th>\n",
       "    </tr>\n",
       "  </thead>\n",
       "  <tbody>\n",
       "    <tr>\n",
       "      <td>202</td>\n",
       "      <td>Adenocarcinoma</td>\n",
       "      <td>0</td>\n",
       "      <td>0</td>\n",
       "      <td>2</td>\n",
       "      <td>2</td>\n",
       "      <td>66.0000</td>\n",
       "    </tr>\n",
       "    <tr>\n",
       "      <td>371</td>\n",
       "      <td>large cell</td>\n",
       "      <td>0</td>\n",
       "      <td>2</td>\n",
       "      <td>1</td>\n",
       "      <td>4</td>\n",
       "      <td>64.5722</td>\n",
       "    </tr>\n",
       "    <tr>\n",
       "      <td>246</td>\n",
       "      <td>squamous cell carcinoma</td>\n",
       "      <td>0</td>\n",
       "      <td>3</td>\n",
       "      <td>1</td>\n",
       "      <td>2</td>\n",
       "      <td>66.0452</td>\n",
       "    </tr>\n",
       "    <tr>\n",
       "      <td>240</td>\n",
       "      <td>nos</td>\n",
       "      <td>0</td>\n",
       "      <td>2</td>\n",
       "      <td>1</td>\n",
       "      <td>3</td>\n",
       "      <td>59.3566</td>\n",
       "    </tr>\n",
       "    <tr>\n",
       "      <td>284</td>\n",
       "      <td>squamous cell carcinoma</td>\n",
       "      <td>0</td>\n",
       "      <td>3</td>\n",
       "      <td>1</td>\n",
       "      <td>4</td>\n",
       "      <td>71.0554</td>\n",
       "    </tr>\n",
       "  </tbody>\n",
       "</table>\n",
       "</div>"
      ],
      "text/plain": [
       "                         Histology  Mstage  Nstage  SourceDataset  Tstage  \\\n",
       "PatientID                                                                   \n",
       "202                 Adenocarcinoma       0       0              2       2   \n",
       "371                     large cell       0       2              1       4   \n",
       "246        squamous cell carcinoma       0       3              1       2   \n",
       "240                            nos       0       2              1       3   \n",
       "284        squamous cell carcinoma       0       3              1       4   \n",
       "\n",
       "               age  \n",
       "PatientID           \n",
       "202        66.0000  \n",
       "371        64.5722  \n",
       "246        66.0452  \n",
       "240        59.3566  \n",
       "284        71.0554  "
      ]
     },
     "execution_count": 25,
     "metadata": {},
     "output_type": "execute_result"
    }
   ],
   "source": [
    "clinical_data.head() # SourceDataset, Nstage"
   ]
  },
  {
   "cell_type": "markdown",
   "metadata": {},
   "source": [
    "From this one, we will select the following columns based on the indication to reproduce the results presented at https://challengedata.ens.fr/participants/challenges/33/ :\n",
    "- SourceDataset\n",
    "- Nstage"
   ]
  },
  {
   "cell_type": "code",
   "execution_count": 26,
   "metadata": {},
   "outputs": [
    {
     "data": {
      "text/html": [
       "<div>\n",
       "<style scoped>\n",
       "    .dataframe tbody tr th:only-of-type {\n",
       "        vertical-align: middle;\n",
       "    }\n",
       "\n",
       "    .dataframe tbody tr th {\n",
       "        vertical-align: top;\n",
       "    }\n",
       "\n",
       "    .dataframe thead th {\n",
       "        text-align: right;\n",
       "    }\n",
       "</style>\n",
       "<table border=\"1\" class=\"dataframe\">\n",
       "  <thead>\n",
       "    <tr style=\"text-align: right;\">\n",
       "      <th></th>\n",
       "      <th>original_shape_Compactness1</th>\n",
       "      <th>original_shape_Compactness2</th>\n",
       "      <th>original_shape_Maximum3DDiameter</th>\n",
       "      <th>original_shape_SphericalDisproportion</th>\n",
       "      <th>original_shape_Sphericity</th>\n",
       "      <th>original_shape_SurfaceArea</th>\n",
       "      <th>original_shape_SurfaceVolumeRatio</th>\n",
       "      <th>original_shape_VoxelVolume</th>\n",
       "      <th>original_firstorder_Energy</th>\n",
       "      <th>original_firstorder_Entropy</th>\n",
       "      <th>...</th>\n",
       "      <th>original_glrlm_LongRunEmphasis</th>\n",
       "      <th>original_glrlm_GrayLevelNonUniformity</th>\n",
       "      <th>original_glrlm_RunLengthNonUniformity</th>\n",
       "      <th>original_glrlm_RunPercentage</th>\n",
       "      <th>original_glrlm_LowGrayLevelRunEmphasis</th>\n",
       "      <th>original_glrlm_HighGrayLevelRunEmphasis</th>\n",
       "      <th>original_glrlm_ShortRunLowGrayLevelEmphasis</th>\n",
       "      <th>original_glrlm_ShortRunHighGrayLevelEmphasis</th>\n",
       "      <th>original_glrlm_LongRunLowGrayLevelEmphasis</th>\n",
       "      <th>original_glrlm_LongRunHighGrayLevelEmphasis</th>\n",
       "    </tr>\n",
       "    <tr>\n",
       "      <th>PatientID</th>\n",
       "      <th></th>\n",
       "      <th></th>\n",
       "      <th></th>\n",
       "      <th></th>\n",
       "      <th></th>\n",
       "      <th></th>\n",
       "      <th></th>\n",
       "      <th></th>\n",
       "      <th></th>\n",
       "      <th></th>\n",
       "      <th></th>\n",
       "      <th></th>\n",
       "      <th></th>\n",
       "      <th></th>\n",
       "      <th></th>\n",
       "      <th></th>\n",
       "      <th></th>\n",
       "      <th></th>\n",
       "      <th></th>\n",
       "      <th></th>\n",
       "      <th></th>\n",
       "    </tr>\n",
       "  </thead>\n",
       "  <tbody>\n",
       "    <tr>\n",
       "      <td>202</td>\n",
       "      <td>0.027815</td>\n",
       "      <td>0.274892</td>\n",
       "      <td>48.559242</td>\n",
       "      <td>1.537964</td>\n",
       "      <td>0.650210</td>\n",
       "      <td>5431.333210</td>\n",
       "      <td>0.275228</td>\n",
       "      <td>19786.0</td>\n",
       "      <td>3.942944e+09</td>\n",
       "      <td>5.138062</td>\n",
       "      <td>...</td>\n",
       "      <td>1.457980</td>\n",
       "      <td>555.378594</td>\n",
       "      <td>14592.303727</td>\n",
       "      <td>0.891330</td>\n",
       "      <td>0.003562</td>\n",
       "      <td>954.749135</td>\n",
       "      <td>0.003384</td>\n",
       "      <td>851.987373</td>\n",
       "      <td>0.004444</td>\n",
       "      <td>1651.710761</td>\n",
       "    </tr>\n",
       "    <tr>\n",
       "      <td>371</td>\n",
       "      <td>0.023015</td>\n",
       "      <td>0.188210</td>\n",
       "      <td>75.703368</td>\n",
       "      <td>1.744961</td>\n",
       "      <td>0.573079</td>\n",
       "      <td>10369.568729</td>\n",
       "      <td>0.240727</td>\n",
       "      <td>43168.0</td>\n",
       "      <td>3.122890e+09</td>\n",
       "      <td>4.461054</td>\n",
       "      <td>...</td>\n",
       "      <td>2.512125</td>\n",
       "      <td>1766.619373</td>\n",
       "      <td>22881.932686</td>\n",
       "      <td>0.766032</td>\n",
       "      <td>0.002246</td>\n",
       "      <td>1092.823724</td>\n",
       "      <td>0.002069</td>\n",
       "      <td>884.838627</td>\n",
       "      <td>0.003633</td>\n",
       "      <td>3386.995589</td>\n",
       "    </tr>\n",
       "    <tr>\n",
       "      <td>246</td>\n",
       "      <td>0.027348</td>\n",
       "      <td>0.265740</td>\n",
       "      <td>70.434367</td>\n",
       "      <td>1.555420</td>\n",
       "      <td>0.642913</td>\n",
       "      <td>10558.818691</td>\n",
       "      <td>0.200766</td>\n",
       "      <td>52655.0</td>\n",
       "      <td>1.059535e+09</td>\n",
       "      <td>3.437111</td>\n",
       "      <td>...</td>\n",
       "      <td>4.096838</td>\n",
       "      <td>3462.816344</td>\n",
       "      <td>18773.106002</td>\n",
       "      <td>0.644554</td>\n",
       "      <td>0.001880</td>\n",
       "      <td>878.989601</td>\n",
       "      <td>0.001635</td>\n",
       "      <td>634.910036</td>\n",
       "      <td>0.004869</td>\n",
       "      <td>4232.418080</td>\n",
       "    </tr>\n",
       "    <tr>\n",
       "      <td>240</td>\n",
       "      <td>0.026811</td>\n",
       "      <td>0.255406</td>\n",
       "      <td>46.818800</td>\n",
       "      <td>1.576120</td>\n",
       "      <td>0.634469</td>\n",
       "      <td>4221.412123</td>\n",
       "      <td>0.323878</td>\n",
       "      <td>13074.0</td>\n",
       "      <td>6.583324e+08</td>\n",
       "      <td>4.352564</td>\n",
       "      <td>...</td>\n",
       "      <td>1.824328</td>\n",
       "      <td>683.869792</td>\n",
       "      <td>7978.285176</td>\n",
       "      <td>0.828138</td>\n",
       "      <td>0.002855</td>\n",
       "      <td>907.045929</td>\n",
       "      <td>0.002680</td>\n",
       "      <td>774.885387</td>\n",
       "      <td>0.003901</td>\n",
       "      <td>1844.746046</td>\n",
       "    </tr>\n",
       "    <tr>\n",
       "      <td>284</td>\n",
       "      <td>0.023691</td>\n",
       "      <td>0.199424</td>\n",
       "      <td>53.795911</td>\n",
       "      <td>1.711620</td>\n",
       "      <td>0.584242</td>\n",
       "      <td>5295.900331</td>\n",
       "      <td>0.327241</td>\n",
       "      <td>16237.0</td>\n",
       "      <td>8.072532e+08</td>\n",
       "      <td>4.055700</td>\n",
       "      <td>...</td>\n",
       "      <td>2.652580</td>\n",
       "      <td>962.094760</td>\n",
       "      <td>7520.054910</td>\n",
       "      <td>0.734898</td>\n",
       "      <td>0.006710</td>\n",
       "      <td>1513.420445</td>\n",
       "      <td>0.004704</td>\n",
       "      <td>1197.140900</td>\n",
       "      <td>0.023273</td>\n",
       "      <td>4444.272812</td>\n",
       "    </tr>\n",
       "  </tbody>\n",
       "</table>\n",
       "<p>5 rows × 53 columns</p>\n",
       "</div>"
      ],
      "text/plain": [
       "           original_shape_Compactness1  original_shape_Compactness2  \\\n",
       "PatientID                                                             \n",
       "202                           0.027815                     0.274892   \n",
       "371                           0.023015                     0.188210   \n",
       "246                           0.027348                     0.265740   \n",
       "240                           0.026811                     0.255406   \n",
       "284                           0.023691                     0.199424   \n",
       "\n",
       "           original_shape_Maximum3DDiameter  \\\n",
       "PatientID                                     \n",
       "202                               48.559242   \n",
       "371                               75.703368   \n",
       "246                               70.434367   \n",
       "240                               46.818800   \n",
       "284                               53.795911   \n",
       "\n",
       "           original_shape_SphericalDisproportion  original_shape_Sphericity  \\\n",
       "PatientID                                                                     \n",
       "202                                     1.537964                   0.650210   \n",
       "371                                     1.744961                   0.573079   \n",
       "246                                     1.555420                   0.642913   \n",
       "240                                     1.576120                   0.634469   \n",
       "284                                     1.711620                   0.584242   \n",
       "\n",
       "           original_shape_SurfaceArea  original_shape_SurfaceVolumeRatio  \\\n",
       "PatientID                                                                  \n",
       "202                       5431.333210                           0.275228   \n",
       "371                      10369.568729                           0.240727   \n",
       "246                      10558.818691                           0.200766   \n",
       "240                       4221.412123                           0.323878   \n",
       "284                       5295.900331                           0.327241   \n",
       "\n",
       "           original_shape_VoxelVolume  original_firstorder_Energy  \\\n",
       "PatientID                                                           \n",
       "202                           19786.0                3.942944e+09   \n",
       "371                           43168.0                3.122890e+09   \n",
       "246                           52655.0                1.059535e+09   \n",
       "240                           13074.0                6.583324e+08   \n",
       "284                           16237.0                8.072532e+08   \n",
       "\n",
       "           original_firstorder_Entropy  ...  original_glrlm_LongRunEmphasis  \\\n",
       "PatientID                               ...                                   \n",
       "202                           5.138062  ...                        1.457980   \n",
       "371                           4.461054  ...                        2.512125   \n",
       "246                           3.437111  ...                        4.096838   \n",
       "240                           4.352564  ...                        1.824328   \n",
       "284                           4.055700  ...                        2.652580   \n",
       "\n",
       "           original_glrlm_GrayLevelNonUniformity  \\\n",
       "PatientID                                          \n",
       "202                                   555.378594   \n",
       "371                                  1766.619373   \n",
       "246                                  3462.816344   \n",
       "240                                   683.869792   \n",
       "284                                   962.094760   \n",
       "\n",
       "           original_glrlm_RunLengthNonUniformity  \\\n",
       "PatientID                                          \n",
       "202                                 14592.303727   \n",
       "371                                 22881.932686   \n",
       "246                                 18773.106002   \n",
       "240                                  7978.285176   \n",
       "284                                  7520.054910   \n",
       "\n",
       "           original_glrlm_RunPercentage  \\\n",
       "PatientID                                 \n",
       "202                            0.891330   \n",
       "371                            0.766032   \n",
       "246                            0.644554   \n",
       "240                            0.828138   \n",
       "284                            0.734898   \n",
       "\n",
       "           original_glrlm_LowGrayLevelRunEmphasis  \\\n",
       "PatientID                                           \n",
       "202                                      0.003562   \n",
       "371                                      0.002246   \n",
       "246                                      0.001880   \n",
       "240                                      0.002855   \n",
       "284                                      0.006710   \n",
       "\n",
       "           original_glrlm_HighGrayLevelRunEmphasis  \\\n",
       "PatientID                                            \n",
       "202                                     954.749135   \n",
       "371                                    1092.823724   \n",
       "246                                     878.989601   \n",
       "240                                     907.045929   \n",
       "284                                    1513.420445   \n",
       "\n",
       "           original_glrlm_ShortRunLowGrayLevelEmphasis  \\\n",
       "PatientID                                                \n",
       "202                                           0.003384   \n",
       "371                                           0.002069   \n",
       "246                                           0.001635   \n",
       "240                                           0.002680   \n",
       "284                                           0.004704   \n",
       "\n",
       "           original_glrlm_ShortRunHighGrayLevelEmphasis  \\\n",
       "PatientID                                                 \n",
       "202                                          851.987373   \n",
       "371                                          884.838627   \n",
       "246                                          634.910036   \n",
       "240                                          774.885387   \n",
       "284                                         1197.140900   \n",
       "\n",
       "           original_glrlm_LongRunLowGrayLevelEmphasis  \\\n",
       "PatientID                                               \n",
       "202                                          0.004444   \n",
       "371                                          0.003633   \n",
       "246                                          0.004869   \n",
       "240                                          0.003901   \n",
       "284                                          0.023273   \n",
       "\n",
       "           original_glrlm_LongRunHighGrayLevelEmphasis  \n",
       "PatientID                                               \n",
       "202                                        1651.710761  \n",
       "371                                        3386.995589  \n",
       "246                                        4232.418080  \n",
       "240                                        1844.746046  \n",
       "284                                        4444.272812  \n",
       "\n",
       "[5 rows x 53 columns]"
      ]
     },
     "execution_count": 26,
     "metadata": {},
     "output_type": "execute_result"
    }
   ],
   "source": [
    "radiomics.head()"
   ]
  },
  {
   "cell_type": "markdown",
   "metadata": {},
   "source": [
    "From this one, we will select the following columns based on the indication to reproduce the results presented at https://challengedata.ens.fr/participants/challenges/33/ :\n",
    "- original_shape_Sphericity\n",
    "- original_shape_SurfaceVolumeRatio\n",
    "- original_shape_Maximum3DDiameter\n",
    "- original_glcm_JointEntropy\n",
    "- original_glcm_Idm : inverse different moment\n",
    "- original_glcm_Id : inverse difference"
   ]
  },
  {
   "cell_type": "markdown",
   "metadata": {},
   "source": [
    "First, let's create both train and validation datasets. Quick remark : cross-validation is mainly used in order to select the best hyperparameters, but in for now we use thr cox model from lifelines which can't be tuned... Thus creating cross validation splits isn't relevant and working with train/val is enough."
   ]
  },
  {
   "cell_type": "code",
   "execution_count": 27,
   "metadata": {},
   "outputs": [],
   "source": [
    "from sklearn.model_selection import StratifiedShuffleSplit\n",
    "split = StratifiedShuffleSplit(n_splits=1, test_size=0.2,random_state=56)\n",
    "splitting = split.split(data, data['Event'])#, data['SourceDataset'].values) \n",
    "# On which column do you want to keep the same distribution in both training and validation\n",
    "### This way, we can try to prevent the model to be biased by the hospital origin,\n",
    "### and more precisely the acquisition method.\n",
    "\n",
    "for train, val in splitting:\n",
    "    data_train = data.iloc[train]\n",
    "    data_val = data.iloc[val]"
   ]
  },
  {
   "cell_type": "markdown",
   "metadata": {},
   "source": [
    "**Start using lifelines function :**"
   ]
  },
  {
   "cell_type": "code",
   "execution_count": 131,
   "metadata": {},
   "outputs": [],
   "source": [
    "def normalize_data(data_train, data_val):\n",
    "    \"\"\"\n",
    "    Normalize each column applying the following pipeline : \n",
    "     - get the transformation coefficient on the training_set.\n",
    "     - apply this very transformation to both data_train and data_val.\n",
    "     - return the normalized datasets.\n",
    "    \"\"\"\n",
    "    for col_name in data_train.drop(['SurvivalTime', 'Event'], axis=1).columns:\n",
    "        mu, sigma = np.mean(data_train[col_name]), np.std(data_train[col_name])\n",
    "        data_train[col_name] = (data_train[col_name]-mu)/sigma\n",
    "\n",
    "        # Then apply this very transformation to the validation data :\n",
    "        data_val[col_name] = (data_val[col_name] - mu)/sigma\n",
    "    \n",
    "    return data_train, data_val\n",
    "\n",
    "def predict_lifelines_cox(data_train, data_val, features_names, normalize=False, show_summary=True):\n",
    "    \"\"\"\n",
    "    Use lifelines' cox model to predict survival of patients based on specific features.\n",
    "    \n",
    "    Input:\n",
    "        data_train: pd.DataFrame\n",
    "            The training dataset. Must contain 'SurvivalTime', 'Event' and features_names in its columns.\n",
    "        data_val: pd.DataFrame\n",
    "            The validation dataset. Must contain 'SurvivalTime', 'Event' and features_names in its columns.\n",
    "        feature_names: list\n",
    "            A list of feature names to consider in the cox model.\n",
    "        normalize: boolean\n",
    "            Whether to normalize data or not.\n",
    "        show_summary: boolean\n",
    "            Whether to show the summary or not. This summary contains informations on which feature is important\n",
    "            for the model, as well as the training results (CI score).\n",
    "            \n",
    "    Output:\n",
    "        a tuple containing the cox model, data_train and data_val\n",
    "    \"\"\"\n",
    "    data_train = data_train[features_names]\n",
    "    data_val = data_val[features_names]\n",
    "    \n",
    "    if normalize:\n",
    "        data_train, data_val = normalize_data(data_train, data_val)\n",
    "        \n",
    "    ### Training Phase and predictions on the validation dataset\n",
    "    # Let's try to use a simple cox model\n",
    "    cph = CoxPHFitter()\n",
    "    cph.fit(data_train, 'SurvivalTime', event_col='Event')\n",
    "    if show_summary:\n",
    "        cph.print_summary() # Prints training results and how important is each feature\n",
    "    #cph.plot() # Plots the importance of each feature\n",
    "    #cph.predict_survival_function(data[['SurvivalTime', Event', 'Mstage',\n",
    "    #                                        'Nstage', 'Tstage']].iloc[5:10,2:]).plot()\n",
    "    \n",
    "    pred = cph.predict_expectation(data_val.drop(['SurvivalTime', 'Event'], axis=1))\n",
    "    pred.columns = ['SurvivalTime']\n",
    "    pred.index.name = 'PatientID'\n",
    "    pred = pd.concat([pred, data_val['Event']], axis=1)\n",
    "    \n",
    "    result = cindex(data_val[['SurvivalTime', 'Event']], pred)\n",
    "    print('Performance on the validation set (CI) : {:.3f}'.format(result))\n",
    "\n",
    "    return (cph, data_train, data_val)"
   ]
  },
  {
   "cell_type": "markdown",
   "metadata": {},
   "source": [
    "Have an insight of the bias in data origin of our model :"
   ]
  },
  {
   "cell_type": "code",
   "execution_count": 30,
   "metadata": {},
   "outputs": [
    {
     "name": "stdout",
     "output_type": "stream",
     "text": [
      "0.663 %% of the data come from Hospital 1.\n",
      "0.671 %% of the data come from Hospital 1.\n",
      "0.633 %% of the data come from Hospital 1.\n"
     ]
    }
   ],
   "source": [
    "prop_HP1 = len(data['SourceDataset'][data['SourceDataset']==1])/len(data)\n",
    "print('{:.3f} %% of the data come from Hospital 1.'.format(prop_HP1))\n",
    "prop_HP1 = len(data_train['SourceDataset'][data_train['SourceDataset']==1])/len(data_train)\n",
    "print('{:.3f} %% of the data come from Hospital 1.'.format(prop_HP1))\n",
    "prop_HP1 = len(data_val['SourceDataset'][data_val['SourceDataset']==1])/len(data_val)\n",
    "print('{:.3f} %% of the data come from Hospital 1.'.format(prop_HP1))"
   ]
  },
  {
   "cell_type": "markdown",
   "metadata": {},
   "source": [
    "*NB, normalizing the data doesn't seem to have a huge impact here. We will consider this when implementing our own verison of a cox model, which will possibly use an SVM (requires data to be normalized).*"
   ]
  },
  {
   "cell_type": "code",
   "execution_count": 142,
   "metadata": {
    "scrolled": false
   },
   "outputs": [
    {
     "name": "stdout",
     "output_type": "stream",
     "text": [
      "n=240, number of events=130\n",
      "\n",
      "                                      coef         exp(coef)  se(coef)       z      p  lower 0.95  upper 0.95   \n",
      "Histology                           0.0880            1.0920    0.1016  0.8667 0.3861     -0.1110      0.2871   \n",
      "SourceDataset                      -0.5870            0.5560    0.3892 -1.5081 0.1315     -1.3498      0.1759   \n",
      "Nstage                              0.1856            1.2039    0.0795  2.3358 0.0195      0.0299      0.3413  *\n",
      "original_shape_Sphericity           2.8294           16.9352    1.5611  1.8124 0.0699     -0.2303      5.8891  .\n",
      "original_shape_Maximum3DDiameter    0.0109            1.0110    0.0046  2.3603 0.0183      0.0018      0.0199  *\n",
      "original_glcm_JointEntropy          0.6011            1.8242    0.2968  2.0252 0.0429      0.0194      1.1829  *\n",
      "original_shape_SurfaceVolumeRatio   1.5646            4.7810    1.2317  1.2703 0.2040     -0.8495      3.9788   \n",
      "original_glcm_Idm                  26.5122 326673160366.2231   21.4907  1.2337 0.2173    -15.6088     68.6333   \n",
      "original_glcm_Id                  -22.0572            0.0000   25.0103 -0.8819 0.3778    -71.0764     26.9621   \n",
      "---\n",
      "Signif. codes:  0 '***' 0.001 '**' 0.01 '*' 0.05 '.' 0.1 ' ' 1 \n",
      "\n",
      "Concordance = 0.705\n",
      "Likelihood ratio test = 60.092 on 9 df, p=0.00000\n",
      "Performance on the validation set (CI) : 0.668\n"
     ]
    }
   ],
   "source": [
    "features_names = ['SurvivalTime', 'Event', 'Histology', 'SourceDataset', 'Nstage', \n",
    "                  'original_shape_Sphericity', \n",
    "                  'original_shape_Maximum3DDiameter',\n",
    "                  'original_glcm_JointEntropy',\n",
    "                  'original_shape_SurfaceVolumeRatio', \n",
    "                  'original_glcm_Idm',\n",
    "                  'original_glcm_Id']\n",
    "\n",
    "(cph, _, _) = predict_lifelines_cox(data_train, data_val, features_names)"
   ]
  },
  {
   "cell_type": "markdown",
   "metadata": {},
   "source": [
    "Given the concordance on the training set (0.705) and the one on the validation set (0.668), we probably overfit a bit... Let's consider fewer features based on their respective importance :"
   ]
  },
  {
   "cell_type": "code",
   "execution_count": 143,
   "metadata": {},
   "outputs": [
    {
     "name": "stdout",
     "output_type": "stream",
     "text": [
      "n=240, number of events=130\n",
      "\n",
      "                                    coef  exp(coef)  se(coef)       z      p  lower 0.95  upper 0.95     \n",
      "Nstage                            0.2647     1.3030    0.0776  3.4084 0.0007      0.1125      0.4168  ***\n",
      "original_shape_Maximum3DDiameter  0.0093     1.0093    0.0041  2.2713 0.0231      0.0013      0.0173    *\n",
      "original_glcm_JointEntropy       -0.1180     0.8887    0.0624 -1.8895 0.0588     -0.2404      0.0044    .\n",
      "original_shape_Sphericity         2.3978    10.9991    1.2579  1.9062 0.0566     -0.0676      4.8633    .\n",
      "---\n",
      "Signif. codes:  0 '***' 0.001 '**' 0.01 '*' 0.05 '.' 0.1 ' ' 1 \n",
      "\n",
      "Concordance = 0.687\n",
      "Likelihood ratio test = 42.732 on 4 df, p=0.00000\n",
      "Performance on the validation set (CI) : 0.641\n"
     ]
    }
   ],
   "source": [
    "features_names = ['SurvivalTime', 'Event', 'Nstage', \n",
    "                  'original_shape_Maximum3DDiameter','original_glcm_JointEntropy',\n",
    "                  'original_shape_Sphericity']\n",
    "\n",
    "(cph, _, _) = predict_lifelines_cox(data_train, data_val, features_names)"
   ]
  },
  {
   "cell_type": "markdown",
   "metadata": {},
   "source": [
    "> Unfortunately, we may not overfit this time, but we definitely lost information..."
   ]
  },
  {
   "cell_type": "markdown",
   "metadata": {},
   "source": [
    "**Try out the scikit-survival function :**"
   ]
  },
  {
   "cell_type": "code",
   "execution_count": null,
   "metadata": {},
   "outputs": [],
   "source": [
    "def predict_sksurv_cox(data_train, data_val, features_names, alpha=1, normalize=False, show_summary=True):\n",
    "    \"\"\"\n",
    "    Use lifelines' cox model to predict survival of patients based on specific features.\n",
    "    \n",
    "    Input:\n",
    "        data_train: pd.DataFrame\n",
    "            The training dataset. Must contain 'SurvivalTime', 'Event' and features_names in its columns.\n",
    "        data_val: pd.DataFrame\n",
    "            The validation dataset. Must contain 'SurvivalTime', 'Event' and features_names in its columns.\n",
    "        feature_names: list\n",
    "            A list of feature names to consider in the cox model.\n",
    "        normalize: boolean\n",
    "            Whether to normalize data or not.\n",
    "        show_summary: boolean\n",
    "            Whether to show the summary or not. This summary contains informations on which feature is important\n",
    "            for the model, as well as the training results (CI score).\n",
    "            \n",
    "    Output:\n",
    "        a tuple containing the cox model, data_train and data_val\n",
    "    \"\"\"\n",
    "    data_train = data_train[features_names]\n",
    "    data_val = data_val[features_names]\n",
    "    \n",
    "    if normalize:\n",
    "        data_train, data_val = normalize_data(data_train, data_val)\n",
    "        \n",
    "    ### Training Phase and predictions on the validation dataset\n",
    "    # Let's try to use a simple cox model\n",
    "    cph = CoxPHSurvivalAnalysis(alpha=alpha) #CoxPHFitter()\n",
    "    \n",
    "    events = np.array(data_train['Event'])\n",
    "    SurvivalTime = np.array(data_train['SurvivalTime'])\n",
    "    y_train = []\n",
    "    for idx in range(len(data_train)):\n",
    "        y_train.append((events[idx], SurvivalTime[idx]))\n",
    "    y_train = np.array(y_train, dtype=[('Event', 'bool'), ('SurvivalTime', 'i4')])\n",
    "    cph.fit(data_train.drop(['SurvivalTime','Event'],axis=1), y_train)\n",
    "    \n",
    "    train_result = cph.score(data_train.drop(['SurvivalTime','Event'],axis=1), y_train)\n",
    "    \n",
    "    events = np.array(data_val['Event'])\n",
    "    SurvivalTime = np.array(data_val['SurvivalTime'])\n",
    "    y_val = []\n",
    "    for idx in range(len(data_val)):\n",
    "        y_val.append((events[idx], SurvivalTime[idx]))\n",
    "    y_val = np.array(y_val, dtype=[('Event', 'bool'), ('SurvivalTime', 'i4')])\n",
    "\n",
    "    val_result = cph.score(data_val.drop(['SurvivalTime','Event'],axis=1), y_val)\n",
    "    print('Performance on the training set (CI) : {:.3f}'.format(train_result))\n",
    "    print('Performance on the validation set (CI) : {:.3f}'.format(val_result))\n",
    "\n",
    "    return (cph, data_train, data_val)"
   ]
  },
  {
   "cell_type": "code",
   "execution_count": 114,
   "metadata": {},
   "outputs": [
    {
     "name": "stdout",
     "output_type": "stream",
     "text": [
      "Performance on the training set (CI) : 0.680\n",
      "Performance on the validation set (CI) : 0.669\n"
     ]
    },
    {
     "name": "stderr",
     "output_type": "stream",
     "text": [
      "/anaconda3/lib/python3.6/site-packages/ipykernel_launcher.py:10: SettingWithCopyWarning: \n",
      "A value is trying to be set on a copy of a slice from a DataFrame.\n",
      "Try using .loc[row_indexer,col_indexer] = value instead\n",
      "\n",
      "See the caveats in the documentation: http://pandas.pydata.org/pandas-docs/stable/user_guide/indexing.html#returning-a-view-versus-a-copy\n",
      "  # Remove the CWD from sys.path while we load stuff.\n",
      "/anaconda3/lib/python3.6/site-packages/ipykernel_launcher.py:13: SettingWithCopyWarning: \n",
      "A value is trying to be set on a copy of a slice from a DataFrame.\n",
      "Try using .loc[row_indexer,col_indexer] = value instead\n",
      "\n",
      "See the caveats in the documentation: http://pandas.pydata.org/pandas-docs/stable/user_guide/indexing.html#returning-a-view-versus-a-copy\n",
      "  del sys.path[0]\n"
     ]
    }
   ],
   "source": [
    "features_names = ['SurvivalTime', 'Event', 'Histology', 'SourceDataset', 'Nstage', \n",
    "                  'original_shape_Sphericity', \n",
    "                  'original_shape_Maximum3DDiameter',\n",
    "                  'original_glcm_JointEntropy',\n",
    "                  'original_shape_SurfaceVolumeRatio', \n",
    "                  'original_glcm_Idm',\n",
    "                  'original_glcm_Id']\n",
    "\n",
    "(cph, _, _) = predict_sksurv_cox(data_train, data_val, features_names, alpha=10000, normalize=True)"
   ]
  },
  {
   "cell_type": "code",
   "execution_count": 120,
   "metadata": {},
   "outputs": [
    {
     "name": "stdout",
     "output_type": "stream",
     "text": [
      "Performance on the training set (CI) : 0.679\n",
      "Performance on the validation set (CI) : 0.663\n"
     ]
    },
    {
     "name": "stderr",
     "output_type": "stream",
     "text": [
      "/anaconda3/lib/python3.6/site-packages/ipykernel_launcher.py:10: SettingWithCopyWarning: \n",
      "A value is trying to be set on a copy of a slice from a DataFrame.\n",
      "Try using .loc[row_indexer,col_indexer] = value instead\n",
      "\n",
      "See the caveats in the documentation: http://pandas.pydata.org/pandas-docs/stable/user_guide/indexing.html#returning-a-view-versus-a-copy\n",
      "  # Remove the CWD from sys.path while we load stuff.\n",
      "/anaconda3/lib/python3.6/site-packages/ipykernel_launcher.py:13: SettingWithCopyWarning: \n",
      "A value is trying to be set on a copy of a slice from a DataFrame.\n",
      "Try using .loc[row_indexer,col_indexer] = value instead\n",
      "\n",
      "See the caveats in the documentation: http://pandas.pydata.org/pandas-docs/stable/user_guide/indexing.html#returning-a-view-versus-a-copy\n",
      "  del sys.path[0]\n"
     ]
    }
   ],
   "source": [
    "features_names = ['SurvivalTime', 'Event', 'Nstage', \n",
    "                  'original_shape_Maximum3DDiameter','original_glcm_JointEntropy',\n",
    "                  'original_shape_Sphericity']\n",
    "\n",
    "(cph, _, _) = predict_sksurv_cox(data_train, data_val, features_names, alpha=500, normalize=True)"
   ]
  },
  {
   "cell_type": "markdown",
   "metadata": {},
   "source": [
    "  "
   ]
  },
  {
   "cell_type": "markdown",
   "metadata": {},
   "source": [
    " "
   ]
  },
  {
   "cell_type": "markdown",
   "metadata": {},
   "source": [
    "---\n",
    "\n",
    "### II - A - 2 ) Feature extraction from a slice (2D) of the CT scans (resnet50, pretrained='imagenet')"
   ]
  },
  {
   "cell_type": "markdown",
   "metadata": {},
   "source": [
    "First approach : take the middle slice of the tumor and process this 2D image using a model pretrained on imagenet (able to recognize shapes and many images features)."
   ]
  },
  {
   "cell_type": "code",
   "execution_count": 121,
   "metadata": {},
   "outputs": [],
   "source": [
    "def get_slice(scan, mask, slice_dim=None):\n",
    "    \"\"\"\n",
    "    Using the mask volume of the scan, get the index of the slice containing most of the tumor.\n",
    "    Then return the corresponding slice of the scan.\n",
    "    \n",
    "    slice_dim parameter allows to state a dimension along which to take the biggest slice. \n",
    "    If None, then thif function returns the biggest out of the 3 dimensions.\n",
    "    \"\"\"\n",
    "    indexes = np.where(mask==1) # Get the indexes along each dimension of the mask\n",
    "    nb_white_pixels = 0\n",
    "    if slice_dim==None:\n",
    "        for dim in range(len(mask.shape)):\n",
    "            values = np.unique(indexes[dim], return_counts=True) \n",
    "            # This gives us the number of white pixels for each index in this dimension\n",
    "            max_value = np.max(values[1]) # We get the maximal number of white pixel for the slices in this dimension\n",
    "            if max_value > nb_white_pixels:\n",
    "                nb_white_pixels = max_value\n",
    "                preferred_slice = (dim, values[0][list(values[1]).index(max_value)])\n",
    "\n",
    "    else:\n",
    "        values = np.unique(indexes[slice_dim], return_counts=True) \n",
    "        # This gives us the number of white pixels for each index in this dimension\n",
    "        max_value = np.max(values[1]) # We get the maximal number of white pixel for the slices in this dimension\n",
    "        preferred_slice = (slice_dim, values[0][list(values[1]).index(max_value)])\n",
    "                \n",
    "                \n",
    "    loc = [(0,92) for _ in range(preferred_slice[0])]\n",
    "    loc += [(preferred_slice[1], preferred_slice[1]+1)]\n",
    "    loc += [(0,92) for _ in range(2-preferred_slice[0])]\n",
    "    slice_of_interest = scan[loc[0][0]:loc[0][1], loc[1][0]:loc[1][1], loc[2][0]:loc[2][1]]\n",
    "    slice_of_interest = slice_of_interest.reshape(92,92)\n",
    "    \n",
    "    return slice_of_interest"
   ]
  },
  {
   "cell_type": "markdown",
   "metadata": {},
   "source": [
    "For some patients, let's plot this biggest slice of the tumor (slice of interest) :"
   ]
  },
  {
   "cell_type": "code",
   "execution_count": 122,
   "metadata": {},
   "outputs": [
    {
     "data": {
      "image/png": "[encoded data removed]",
      "text/plain": [
       "<Figure size 1152x576 with 3 Axes>"
      ]
     },
     "metadata": {
      "needs_background": "light"
     },
     "output_type": "display_data"
    },
    {
     "data": {
      "image/png": "[encoded data removed]",
      "text/plain": [
       "<Figure size 1152x576 with 3 Axes>"
      ]
     },
     "metadata": {
      "needs_background": "light"
     },
     "output_type": "display_data"
    },
    {
     "data": {
      "image/png": "[encoded data removed]",
      "text/plain": [
       "<Figure size 1152x576 with 3 Axes>"
      ]
     },
     "metadata": {
      "needs_background": "light"
     },
     "output_type": "display_data"
    },
    {
     "name": "stderr",
     "output_type": "stream",
     "text": [
      "Clipping input data to the valid range for imshow with RGB data ([0..1] for floats or [0..255] for integers).\n"
     ]
    },
    {
     "data": {
      "image/png": "[encoded data removed]",
      "text/plain": [
       "<Figure size 1152x576 with 3 Axes>"
      ]
     },
     "metadata": {
      "needs_background": "light"
     },
     "output_type": "display_data"
    },
    {
     "data": {
      "image/png": "[encoded data removed]",
      "text/plain": [
       "<Figure size 1152x576 with 3 Axes>"
      ]
     },
     "metadata": {
      "needs_background": "light"
     },
     "output_type": "display_data"
    }
   ],
   "source": [
    "for patient_id in data_train.index[:5]:\n",
    "    patient_id_str = '00'+str(patient_id)\n",
    "    patient_id_str = patient_id_str[-3:]\n",
    "    archive = np.load(os.path.join(train_root,'images/patient_{}.npz'.format(patient_id_str)))\n",
    "    scan = archive['scan'] # a np.array\n",
    "    mask = archive['mask'] # a np.array\n",
    "    slice_of_interest = np.zeros((92,92,3))\n",
    "    soi = get_slice(to_pixel_values(scan), mask)\n",
    "    for dim in range(3):\n",
    "        slice_of_interest[:,:,dim] = soi\n",
    "    slice_of_interest = slice_of_interest.astype(int)\n",
    "    \n",
    "    plt.figure(figsize=(16,8))\n",
    "    \n",
    "    plt.subplot(131)\n",
    "    plt.imshow(slice_of_interest)\n",
    "    plt.title('Slice of interest')\n",
    "    \n",
    "    mask_of_interest = np.zeros((92,92,3))\n",
    "    moi = get_slice(mask, mask)\n",
    "    for dim in range(3):\n",
    "        mask_of_interest[:,:,dim] = moi\n",
    "    mask_of_interest = mask_of_interest.astype(int)\n",
    "    \n",
    "    plt.subplot(132)\n",
    "    plt.imshow(mask_of_interest*255)\n",
    "    plt.title('Mask')\n",
    "    \n",
    "    plt.subplot(133)\n",
    "    plt.imshow(mask_of_interest*slice_of_interest)\n",
    "    plt.title('Masked Image')\n",
    "    \n",
    "    plt.show()"
   ]
  },
  {
   "cell_type": "markdown",
   "metadata": {},
   "source": [
    "Import the model using torch :"
   ]
  },
  {
   "cell_type": "code",
   "execution_count": 123,
   "metadata": {},
   "outputs": [],
   "source": [
    "import torchvision.models as models\n",
    "import torch.nn as nn\n",
    "import torch\n",
    "model = nn.Sequential(*list(models.resnet50('imagenet').children())[:-2])\n",
    "# -2 instead of -1 will take off the last AvgPool2d if I want to play a bit.\n",
    "model = model.double()"
   ]
  },
  {
   "cell_type": "markdown",
   "metadata": {},
   "source": [
    "Get the extracted features for each patient and build a dataframe :"
   ]
  },
  {
   "cell_type": "code",
   "execution_count": 124,
   "metadata": {
    "scrolled": true
   },
   "outputs": [
    {
     "name": "stderr",
     "output_type": "stream",
     "text": [
      "300it [01:10,  4.26it/s]\n"
     ]
    }
   ],
   "source": [
    "def feature_extractor(over_masked_images=False, slice_dim=None):\n",
    "    features_img = np.ndarray((len(training_labels),2048))\n",
    "\n",
    "    for idx, patient_id in tqdm.tqdm(enumerate(training_labels.index)):\n",
    "        # Load the image\n",
    "        patient_id_str = '00'+str(patient_id)\n",
    "        patient_id_str = patient_id_str[-3:]\n",
    "        archive = np.load(os.path.join(train_root,'images/patient_{}.npz'.format(patient_id_str)))\n",
    "        scan = archive['scan'] # a np.array\n",
    "        mask = archive['mask'] # a np.array\n",
    "\n",
    "        try: # for some patients we don't have the mask though\n",
    "            # Get the slice of interest\n",
    "            img = get_slice(scan, mask, slice_dim)\n",
    "            img = to_pixel_values(img)\n",
    "            if over_masked_images:\n",
    "                masked_slice = get_slice(mask, mask)\n",
    "                img *= masked_slice.astype(int)\n",
    "\n",
    "        except: # For images for which we don't have any masks, we need to rethink our approach\n",
    "            #print('An issue has occured for patient {}'.format(patient_id))\n",
    "            ### Output : Patients 327, 256, 3, 391, 263 have issues.\n",
    "            img = np.zeros((92,92))\n",
    "            \n",
    "        # Extract features from it using Resnet50\n",
    "        img_bgr = np.zeros((1, 3, 92, 92))\n",
    "        for dim in range(3):\n",
    "            img_bgr[0,dim,:,:] = img\n",
    "        with torch.no_grad():\n",
    "            img_bgr = torch.from_numpy(img_bgr/255.)\n",
    "            img_bgr = img_bgr.type('torch.DoubleTensor')\n",
    "            #torch.utils.data.DataLoader(train_dataset, batch_size=1)\n",
    "            slice_features = model(img_bgr).numpy()\n",
    "        slice_features = slice_features.mean(2).mean(2)\n",
    "        slice_features = slice_features.flatten()\n",
    "        features_img[idx] = slice_features\n",
    "\n",
    "    columns_names = ['Img_Feature_{}'.format(i) for i in range(1,2049)]\n",
    "\n",
    "    img_features_df = pd.DataFrame(features_img, columns=columns_names, index=training_labels.index)\n",
    "    \n",
    "    return img_features_df\n",
    "\n",
    "img_features_df = feature_extractor()"
   ]
  },
  {
   "cell_type": "code",
   "execution_count": 125,
   "metadata": {
    "scrolled": true
   },
   "outputs": [
    {
     "data": {
      "text/html": [
       "<div>\n",
       "<style scoped>\n",
       "    .dataframe tbody tr th:only-of-type {\n",
       "        vertical-align: middle;\n",
       "    }\n",
       "\n",
       "    .dataframe tbody tr th {\n",
       "        vertical-align: top;\n",
       "    }\n",
       "\n",
       "    .dataframe thead th {\n",
       "        text-align: right;\n",
       "    }\n",
       "</style>\n",
       "<table border=\"1\" class=\"dataframe\">\n",
       "  <thead>\n",
       "    <tr style=\"text-align: right;\">\n",
       "      <th></th>\n",
       "      <th>Img_Feature_1</th>\n",
       "      <th>Img_Feature_2</th>\n",
       "      <th>Img_Feature_3</th>\n",
       "      <th>Img_Feature_4</th>\n",
       "      <th>Img_Feature_5</th>\n",
       "      <th>Img_Feature_6</th>\n",
       "      <th>Img_Feature_7</th>\n",
       "      <th>Img_Feature_8</th>\n",
       "      <th>Img_Feature_9</th>\n",
       "      <th>Img_Feature_10</th>\n",
       "      <th>...</th>\n",
       "      <th>Img_Feature_2039</th>\n",
       "      <th>Img_Feature_2040</th>\n",
       "      <th>Img_Feature_2041</th>\n",
       "      <th>Img_Feature_2042</th>\n",
       "      <th>Img_Feature_2043</th>\n",
       "      <th>Img_Feature_2044</th>\n",
       "      <th>Img_Feature_2045</th>\n",
       "      <th>Img_Feature_2046</th>\n",
       "      <th>Img_Feature_2047</th>\n",
       "      <th>Img_Feature_2048</th>\n",
       "    </tr>\n",
       "    <tr>\n",
       "      <th>PatientID</th>\n",
       "      <th></th>\n",
       "      <th></th>\n",
       "      <th></th>\n",
       "      <th></th>\n",
       "      <th></th>\n",
       "      <th></th>\n",
       "      <th></th>\n",
       "      <th></th>\n",
       "      <th></th>\n",
       "      <th></th>\n",
       "      <th></th>\n",
       "      <th></th>\n",
       "      <th></th>\n",
       "      <th></th>\n",
       "      <th></th>\n",
       "      <th></th>\n",
       "      <th></th>\n",
       "      <th></th>\n",
       "      <th></th>\n",
       "      <th></th>\n",
       "      <th></th>\n",
       "    </tr>\n",
       "  </thead>\n",
       "  <tbody>\n",
       "    <tr>\n",
       "      <td>202</td>\n",
       "      <td>0.343396</td>\n",
       "      <td>0.480997</td>\n",
       "      <td>0.574364</td>\n",
       "      <td>0.384664</td>\n",
       "      <td>0.457811</td>\n",
       "      <td>0.497613</td>\n",
       "      <td>0.525142</td>\n",
       "      <td>0.451244</td>\n",
       "      <td>0.429529</td>\n",
       "      <td>0.593764</td>\n",
       "      <td>...</td>\n",
       "      <td>0.383884</td>\n",
       "      <td>0.488671</td>\n",
       "      <td>0.378356</td>\n",
       "      <td>0.395469</td>\n",
       "      <td>0.471513</td>\n",
       "      <td>0.159779</td>\n",
       "      <td>0.393104</td>\n",
       "      <td>0.315369</td>\n",
       "      <td>0.429333</td>\n",
       "      <td>0.340765</td>\n",
       "    </tr>\n",
       "    <tr>\n",
       "      <td>371</td>\n",
       "      <td>0.427483</td>\n",
       "      <td>0.625572</td>\n",
       "      <td>0.459051</td>\n",
       "      <td>0.438079</td>\n",
       "      <td>0.479484</td>\n",
       "      <td>0.508365</td>\n",
       "      <td>0.548611</td>\n",
       "      <td>0.470015</td>\n",
       "      <td>0.357419</td>\n",
       "      <td>0.291761</td>\n",
       "      <td>...</td>\n",
       "      <td>0.459865</td>\n",
       "      <td>0.478431</td>\n",
       "      <td>0.435634</td>\n",
       "      <td>0.302019</td>\n",
       "      <td>0.458117</td>\n",
       "      <td>0.108944</td>\n",
       "      <td>0.403599</td>\n",
       "      <td>0.327929</td>\n",
       "      <td>0.448080</td>\n",
       "      <td>0.288398</td>\n",
       "    </tr>\n",
       "    <tr>\n",
       "      <td>246</td>\n",
       "      <td>0.328621</td>\n",
       "      <td>0.547753</td>\n",
       "      <td>0.426236</td>\n",
       "      <td>0.441431</td>\n",
       "      <td>0.405119</td>\n",
       "      <td>0.474290</td>\n",
       "      <td>0.584534</td>\n",
       "      <td>0.533232</td>\n",
       "      <td>0.317885</td>\n",
       "      <td>0.276911</td>\n",
       "      <td>...</td>\n",
       "      <td>0.415539</td>\n",
       "      <td>0.402117</td>\n",
       "      <td>0.430649</td>\n",
       "      <td>0.348916</td>\n",
       "      <td>0.460762</td>\n",
       "      <td>0.157758</td>\n",
       "      <td>0.473265</td>\n",
       "      <td>0.341746</td>\n",
       "      <td>0.422360</td>\n",
       "      <td>0.312749</td>\n",
       "    </tr>\n",
       "    <tr>\n",
       "      <td>240</td>\n",
       "      <td>0.362312</td>\n",
       "      <td>0.524311</td>\n",
       "      <td>0.487430</td>\n",
       "      <td>0.363619</td>\n",
       "      <td>0.604511</td>\n",
       "      <td>0.494696</td>\n",
       "      <td>0.577124</td>\n",
       "      <td>0.501981</td>\n",
       "      <td>0.462962</td>\n",
       "      <td>0.530389</td>\n",
       "      <td>...</td>\n",
       "      <td>0.372950</td>\n",
       "      <td>0.512411</td>\n",
       "      <td>0.498755</td>\n",
       "      <td>0.363923</td>\n",
       "      <td>0.384840</td>\n",
       "      <td>0.151933</td>\n",
       "      <td>0.442702</td>\n",
       "      <td>0.324166</td>\n",
       "      <td>0.406181</td>\n",
       "      <td>0.368282</td>\n",
       "    </tr>\n",
       "    <tr>\n",
       "      <td>284</td>\n",
       "      <td>0.373992</td>\n",
       "      <td>0.628258</td>\n",
       "      <td>0.406065</td>\n",
       "      <td>0.359042</td>\n",
       "      <td>0.539771</td>\n",
       "      <td>0.452282</td>\n",
       "      <td>0.524535</td>\n",
       "      <td>0.515526</td>\n",
       "      <td>0.439546</td>\n",
       "      <td>0.510069</td>\n",
       "      <td>...</td>\n",
       "      <td>0.415139</td>\n",
       "      <td>0.390698</td>\n",
       "      <td>0.394378</td>\n",
       "      <td>0.327192</td>\n",
       "      <td>0.444154</td>\n",
       "      <td>0.166435</td>\n",
       "      <td>0.437151</td>\n",
       "      <td>0.330760</td>\n",
       "      <td>0.375219</td>\n",
       "      <td>0.353651</td>\n",
       "    </tr>\n",
       "  </tbody>\n",
       "</table>\n",
       "<p>5 rows × 2048 columns</p>\n",
       "</div>"
      ],
      "text/plain": [
       "           Img_Feature_1  Img_Feature_2  Img_Feature_3  Img_Feature_4  \\\n",
       "PatientID                                                               \n",
       "202             0.343396       0.480997       0.574364       0.384664   \n",
       "371             0.427483       0.625572       0.459051       0.438079   \n",
       "246             0.328621       0.547753       0.426236       0.441431   \n",
       "240             0.362312       0.524311       0.487430       0.363619   \n",
       "284             0.373992       0.628258       0.406065       0.359042   \n",
       "\n",
       "           Img_Feature_5  Img_Feature_6  Img_Feature_7  Img_Feature_8  \\\n",
       "PatientID                                                               \n",
       "202             0.457811       0.497613       0.525142       0.451244   \n",
       "371             0.479484       0.508365       0.548611       0.470015   \n",
       "246             0.405119       0.474290       0.584534       0.533232   \n",
       "240             0.604511       0.494696       0.577124       0.501981   \n",
       "284             0.539771       0.452282       0.524535       0.515526   \n",
       "\n",
       "           Img_Feature_9  Img_Feature_10  ...  Img_Feature_2039  \\\n",
       "PatientID                                 ...                     \n",
       "202             0.429529        0.593764  ...          0.383884   \n",
       "371             0.357419        0.291761  ...          0.459865   \n",
       "246             0.317885        0.276911  ...          0.415539   \n",
       "240             0.462962        0.530389  ...          0.372950   \n",
       "284             0.439546        0.510069  ...          0.415139   \n",
       "\n",
       "           Img_Feature_2040  Img_Feature_2041  Img_Feature_2042  \\\n",
       "PatientID                                                         \n",
       "202                0.488671          0.378356          0.395469   \n",
       "371                0.478431          0.435634          0.302019   \n",
       "246                0.402117          0.430649          0.348916   \n",
       "240                0.512411          0.498755          0.363923   \n",
       "284                0.390698          0.394378          0.327192   \n",
       "\n",
       "           Img_Feature_2043  Img_Feature_2044  Img_Feature_2045  \\\n",
       "PatientID                                                         \n",
       "202                0.471513          0.159779          0.393104   \n",
       "371                0.458117          0.108944          0.403599   \n",
       "246                0.460762          0.157758          0.473265   \n",
       "240                0.384840          0.151933          0.442702   \n",
       "284                0.444154          0.166435          0.437151   \n",
       "\n",
       "           Img_Feature_2046  Img_Feature_2047  Img_Feature_2048  \n",
       "PatientID                                                        \n",
       "202                0.315369          0.429333          0.340765  \n",
       "371                0.327929          0.448080          0.288398  \n",
       "246                0.341746          0.422360          0.312749  \n",
       "240                0.324166          0.406181          0.368282  \n",
       "284                0.330760          0.375219          0.353651  \n",
       "\n",
       "[5 rows x 2048 columns]"
      ]
     },
     "execution_count": 125,
     "metadata": {},
     "output_type": "execute_result"
    }
   ],
   "source": [
    "img_features_df.head()"
   ]
  },
  {
   "cell_type": "markdown",
   "metadata": {},
   "source": [
    "Issues have occured for these patients :\n",
    "- 327\n",
    "- 256\n",
    "- 3\n",
    "- 391\n",
    "- 263\n",
    "\n",
    "Let's verify their masks and remove them from the database for now :"
   ]
  },
  {
   "cell_type": "code",
   "execution_count": 127,
   "metadata": {
    "scrolled": false
   },
   "outputs": [
    {
     "name": "stdout",
     "output_type": "stream",
     "text": [
      "Patient 327 has a full dark mask.\n",
      "Patient 256 has a full dark mask.\n",
      "Patient 3 has a full dark mask.\n",
      "Patient 391 has a full dark mask.\n",
      "Patient 263 has a full dark mask.\n"
     ]
    }
   ],
   "source": [
    "reduced_img_features_df = img_features_df.copy()\n",
    "reduced_data_train = data_train.copy()\n",
    "reduced_data_val = data_val.copy()\n",
    "\n",
    "no_masks_patients = [327,256,3,391,263]\n",
    "for patient_id in no_masks_patients:\n",
    "    patient_id_str = '00'+str(patient_id)\n",
    "    patient_id_str = patient_id_str[-3:]\n",
    "    archive = np.load(os.path.join(train_root,'images/patient_{}.npz'.format(patient_id_str)))\n",
    "    scan = archive['scan'] # a np.array\n",
    "    mask = archive['mask'] # a np.array\n",
    "    if np.all(mask==0):\n",
    "        print('Patient {} has a full dark mask.'.format(patient_id))\n",
    "    reduced_img_features_df = reduced_img_features_df.drop(patient_id,axis='index')\n",
    "    try:\n",
    "        reduced_data_train = reduced_data_train.drop(patient_id,axis='index')\n",
    "    except:\n",
    "        reduced_data_val = reduced_data_val.drop(patient_id,axis='index')"
   ]
  },
  {
   "cell_type": "markdown",
   "metadata": {},
   "source": [
    "However, since 2048 features are far too many for a model with less than 300 patients, let's apply a PCA to reduce the space dimension :"
   ]
  },
  {
   "cell_type": "code",
   "execution_count": 128,
   "metadata": {},
   "outputs": [
    {
     "name": "stdout",
     "output_type": "stream",
     "text": [
      "Shape of transformed data :  (295, 50)\n"
     ]
    }
   ],
   "source": [
    "from sklearn.decomposition import PCA\n",
    "transformer = PCA(n_components=50) # keep only 100 features\n",
    "# using PCA(0.99, whiten=True), we can ask it to preserve 99% of the variance in the projected data\n",
    "ld_data = transformer.fit_transform(reduced_img_features_df)\n",
    "print(\"Shape of transformed data : \", ld_data.shape)\n",
    "\n",
    "columns_names = ['Img_Feature_{}'.format(i) for i in range(1,ld_data.shape[1]+1)]\n",
    "\n",
    "reduced_img_features_df = pd.DataFrame(ld_data, index=reduced_img_features_df.index, columns=columns_names)"
   ]
  },
  {
   "cell_type": "code",
   "execution_count": 129,
   "metadata": {},
   "outputs": [],
   "source": [
    "# Apply the splitting process to the dataframe containing the features\n",
    "data_features_train = reduced_img_features_df.loc[reduced_data_train.index]\n",
    "data_features_val = reduced_img_features_df.loc[reduced_data_val.index]\n",
    "\n",
    "# Rebuild the split using all available columns\n",
    "reduced_data_train = data.loc[reduced_data_train.index]\n",
    "reduced_data_val = data.loc[reduced_data_val.index]\n",
    "\n",
    "# Concatenate the related dataframes to build the splits\n",
    "reduced_data_train = pd.concat([reduced_data_train, data_features_train], axis=1)\n",
    "reduced_data_val = pd.concat([reduced_data_val, data_features_val], axis=1)"
   ]
  },
  {
   "cell_type": "markdown",
   "metadata": {},
   "source": [
    "**Lifelines :**"
   ]
  },
  {
   "cell_type": "code",
   "execution_count": 132,
   "metadata": {
    "scrolled": true
   },
   "outputs": [
    {
     "name": "stdout",
     "output_type": "stream",
     "text": [
      "n=236, number of events=129\n",
      "\n",
      "                                     coef     exp(coef)  se(coef)       z      p  lower 0.95  upper 0.95     \n",
      "SourceDataset                     -0.5205        0.5942    0.4328 -1.2027 0.2291     -1.3687      0.3277     \n",
      "Nstage                             0.1528        1.1651    0.1000  1.5280 0.1265     -0.0432      0.3488     \n",
      "original_shape_Sphericity          4.4706       87.4058    1.8349  2.4365 0.0148      0.8743      8.0668    *\n",
      "original_shape_SurfaceVolumeRatio  4.5496       94.5907    1.7209  2.6437 0.0082      1.1767      7.9224   **\n",
      "original_shape_Maximum3DDiameter   0.0223        1.0226    0.0063  3.5720 0.0004      0.0101      0.0346  ***\n",
      "original_glcm_JointEntropy         0.8144        2.2578    0.3860  2.1098 0.0349      0.0578      1.5709    *\n",
      "original_glcm_Idm                 17.9225 60766175.5185   26.1268  0.6860 0.4927    -33.2851     69.1302     \n",
      "original_glcm_Id                  -8.9462        0.0001   30.4585 -0.2937 0.7690    -68.6437     50.7513     \n",
      "Img_Feature_1                     -0.2071        0.8129    0.3263 -0.6348 0.5256     -0.8467      0.4324     \n",
      "Img_Feature_2                      0.1918        1.2114    0.4197  0.4570 0.6477     -0.6308      1.0144     \n",
      "Img_Feature_3                      0.0720        1.0747    0.4190  0.1718 0.8636     -0.7493      0.8932     \n",
      "Img_Feature_4                     -1.1633        0.3125    0.5018 -2.3179 0.0205     -2.1469     -0.1797    *\n",
      "Img_Feature_5                      1.3434        3.8321    0.5447  2.4664 0.0136      0.2758      2.4110    *\n",
      "Img_Feature_6                     -0.9242        0.3968    0.4734 -1.9524 0.0509     -1.8520      0.0036    .\n",
      "Img_Feature_7                     -0.2565        0.7738    0.5375 -0.4772 0.6332     -1.3099      0.7970     \n",
      "Img_Feature_8                     -0.5958        0.5511    0.4793 -1.2431 0.2138     -1.5352      0.3436     \n",
      "Img_Feature_9                      0.0201        1.0203    0.4796  0.0419 0.9666     -0.9200      0.9602     \n",
      "Img_Feature_10                    -1.2702        0.2808    0.5369 -2.3656 0.0180     -2.3226     -0.2178    *\n",
      "Img_Feature_11                    -1.0103        0.3641    0.5232 -1.9310 0.0535     -2.0358      0.0151    .\n",
      "Img_Feature_12                     0.2282        1.2563    0.4989  0.4574 0.6474     -0.7496      1.2059     \n",
      "Img_Feature_13                    -0.5893        0.5547    0.4481 -1.3152 0.1884     -1.4674      0.2889     \n",
      "Img_Feature_14                    -0.1725        0.8415    0.4934 -0.3497 0.7266     -1.1397      0.7946     \n",
      "Img_Feature_15                     0.4797        1.6156    0.4972  0.9648 0.3347     -0.4948      1.4542     \n",
      "Img_Feature_16                     0.5191        1.6805    0.5090  1.0198 0.3078     -0.4786      1.5168     \n",
      "Img_Feature_17                     0.0596        1.0614    0.4891  0.1219 0.9030     -0.8990      1.0182     \n",
      "Img_Feature_18                     0.1240        1.1320    0.4818  0.2574 0.7969     -0.8203      1.0683     \n",
      "Img_Feature_19                    -0.6761        0.5086    0.5205 -1.2989 0.1940     -1.6962      0.3441     \n",
      "Img_Feature_20                    -1.1428        0.3189    0.5026 -2.2740 0.0230     -2.1278     -0.1578    *\n",
      "Img_Feature_21                    -0.1192        0.8876    0.4601 -0.2590 0.7956     -1.0210      0.7827     \n",
      "Img_Feature_22                    -0.2093        0.8112    0.4695 -0.4457 0.6558     -1.1296      0.7110     \n",
      "Img_Feature_23                     0.3908        1.4782    0.5342  0.7316 0.4644     -0.6562      1.4378     \n",
      "Img_Feature_24                     0.1047        1.1104    0.5190  0.2018 0.8401     -0.9125      1.1220     \n",
      "Img_Feature_25                    -0.0255        0.9748    0.5209 -0.0490 0.9609     -1.0465      0.9954     \n",
      "Img_Feature_26                    -0.9584        0.3835    0.6065 -1.5803 0.1140     -2.1471      0.2302     \n",
      "Img_Feature_27                    -0.3024        0.7391    0.5307 -0.5698 0.5688     -1.3424      0.7377     \n",
      "Img_Feature_28                    -0.4423        0.6426    0.4976 -0.8887 0.3742     -1.4176      0.5331     \n",
      "Img_Feature_29                     0.0804        1.0837    0.5290  0.1519 0.8792     -0.9564      1.1171     \n",
      "Img_Feature_30                     0.5833        1.7920    0.5151  1.1325 0.2574     -0.4262      1.5928     \n",
      "Img_Feature_31                    -0.8278        0.4370    0.5317 -1.5570 0.1195     -1.8699      0.2142     \n",
      "Img_Feature_32                    -0.1162        0.8903    0.5903 -0.1969 0.8439     -1.2732      1.0407     \n",
      "Img_Feature_33                     0.8907        2.4369    0.5330  1.6712 0.0947     -0.1539      1.9354    .\n",
      "Img_Feature_34                    -0.1107        0.8952    0.6459 -0.1715 0.8639     -1.3766      1.1551     \n",
      "Img_Feature_35                     0.0952        1.0999    0.5636  0.1689 0.8658     -1.0095      1.1999     \n",
      "Img_Feature_36                    -0.1578        0.8540    0.5233 -0.3016 0.7630     -1.1835      0.8679     \n",
      "Img_Feature_37                    -0.5582        0.5722    0.5614 -0.9943 0.3201     -1.6584      0.5421     \n",
      "Img_Feature_38                     0.2680        1.3074    0.5445  0.4923 0.6225     -0.7991      1.3352     \n",
      "Img_Feature_39                    -1.2387        0.2898    0.5831 -2.1245 0.0336     -2.3814     -0.0959    *\n",
      "Img_Feature_40                    -1.0415        0.3529    0.5417 -1.9225 0.0545     -2.1033      0.0203    .\n",
      "Img_Feature_41                     0.5515        1.7359    0.5288  1.0429 0.2970     -0.4850      1.5880     \n",
      "Img_Feature_42                    -0.8293        0.4364    0.6283 -1.3199 0.1869     -2.0606      0.4021     \n",
      "Img_Feature_43                     0.2912        1.3380    0.5746  0.5067 0.6123     -0.8351      1.4174     \n",
      "Img_Feature_44                    -0.1026        0.9025    0.5648 -0.1817 0.8558     -1.2096      1.0044     \n",
      "Img_Feature_45                    -0.1417        0.8679    0.6164 -0.2299 0.8182     -1.3497      1.0664     \n",
      "Img_Feature_46                     0.0544        1.0559    0.6216  0.0876 0.9302     -1.1638      1.2727     \n",
      "Img_Feature_47                     0.1858        1.2041    0.5800  0.3203 0.7487     -0.9510      1.3225     \n",
      "Img_Feature_48                     0.7364        2.0883    0.6195  1.1886 0.2346     -0.4779      1.9506     \n",
      "Img_Feature_49                     0.0370        1.0377    0.5660  0.0654 0.9479     -1.0723      1.1463     \n",
      "Img_Feature_50                     0.7812        2.1842    0.5782  1.3510 0.1767     -0.3521      1.9146     \n",
      "---\n",
      "Signif. codes:  0 '***' 0.001 '**' 0.01 '*' 0.05 '.' 0.1 ' ' 1 \n",
      "\n",
      "Concordance = 0.758\n",
      "Likelihood ratio test = 112.805 on 58 df, p=0.00002\n",
      "Performance on the validation set (CI) : 0.637\n"
     ]
    }
   ],
   "source": [
    "features_names = ['SurvivalTime', 'Event', 'SourceDataset', 'Nstage', \n",
    "                  'original_shape_Sphericity', 'original_shape_SurfaceVolumeRatio', \n",
    "                  'original_shape_Maximum3DDiameter', 'original_glcm_JointEntropy',\n",
    "                  'original_glcm_Idm','original_glcm_Id'] + list(reduced_img_features_df.columns)\n",
    "\n",
    "(cph, reduced_data_train, reduced_data_val) = predict_lifelines_cox(reduced_data_train, \n",
    "                                                                reduced_data_val, features_names)"
   ]
  },
  {
   "cell_type": "markdown",
   "metadata": {},
   "source": [
    "The concordance presented by the model is 0.762 whereas the performance on the validation set is 0.667. Our model clearly overfits so we will reduce the number of parameters by selecting only the best params. Let's iterate this method until all parameters are important for the model :"
   ]
  },
  {
   "cell_type": "code",
   "execution_count": 133,
   "metadata": {},
   "outputs": [
    {
     "name": "stdout",
     "output_type": "stream",
     "text": [
      "Performance on the validation set (CI) : 0.700\n",
      "Performance on the validation set (CI) : 0.686\n",
      "n=236, number of events=129\n",
      "\n",
      "                                    coef  exp(coef)  se(coef)       z      p  lower 0.95  upper 0.95     \n",
      "original_shape_Sphericity         3.7807    43.8483    1.1744  3.2194 0.0013      1.4790      6.0825   **\n",
      "original_shape_Maximum3DDiameter  0.0165     1.0167    0.0033  4.9648 0.0000      0.0100      0.0231  ***\n",
      "Img_Feature_4                    -0.8400     0.4317    0.4045 -2.0767 0.0378     -1.6328     -0.0472    *\n",
      "Img_Feature_10                   -1.0958     0.3343    0.4518 -2.4254 0.0153     -1.9813     -0.2103    *\n",
      "Img_Feature_20                   -0.9030     0.4054    0.4518 -1.9987 0.0456     -1.7885     -0.0175    *\n",
      "---\n",
      "Signif. codes:  0 '***' 0.001 '**' 0.01 '*' 0.05 '.' 0.1 ' ' 1 \n",
      "\n",
      "Concordance = 0.659\n",
      "Likelihood ratio test = 40.106 on 5 df, p=0.00000\n"
     ]
    }
   ],
   "source": [
    "def lifelines_cox_param_selection(cph, features_names, reduced_data_train, reduced_data_val, p_value_thresh=0.05):\n",
    "    p_value_thresh = 0.05\n",
    "    # p_value_thresh = 0.05 select all features having at least a '*'\n",
    "    # p_value_thresh = 0.1 selects all features having at least a '.'\n",
    "    p_values = np.array(cph._compute_p_values())\n",
    "    while not np.all(p_values<p_value_thresh):\n",
    "        good_features = []\n",
    "        for idx, feature in enumerate(features_names[2:]):\n",
    "            if p_values[idx] < p_value_thresh: \n",
    "                good_features.append(feature)\n",
    "\n",
    "        features_names = ['SurvivalTime', 'Event'] + good_features\n",
    "        (cph, _, _) = predict_lifelines_cox(reduced_data_train, reduced_data_val, features_names, show_summary=False)\n",
    "        p_values = np.array(cph._compute_p_values())\n",
    "\n",
    "    cph.print_summary()\n",
    "    \n",
    "lifelines_cox_param_selection(cph, features_names, reduced_data_train, reduced_data_val, p_value_thresh=0.05)"
   ]
  },
  {
   "cell_type": "markdown",
   "metadata": {},
   "source": [
    "Using only these, we don't overfit that much !\n",
    "\n",
    "> Nevertheless, this approach doesn't yield great results..."
   ]
  },
  {
   "cell_type": "markdown",
   "metadata": {},
   "source": [
    "**Scikit-survival :**"
   ]
  },
  {
   "cell_type": "code",
   "execution_count": 144,
   "metadata": {},
   "outputs": [
    {
     "name": "stdout",
     "output_type": "stream",
     "text": [
      "Performance on the training set (CI) : 0.673\n",
      "Performance on the validation set (CI) : 0.699\n"
     ]
    }
   ],
   "source": [
    "features_names = ['SurvivalTime', 'Event', 'SourceDataset', 'Nstage', \n",
    "                  'original_shape_Sphericity', 'original_shape_SurfaceVolumeRatio', \n",
    "                  'original_shape_Maximum3DDiameter', 'original_glcm_JointEntropy',\n",
    "                  'original_glcm_Idm','original_glcm_Id'] + list(reduced_img_features_df.columns)\n",
    "\n",
    "(cph, _, _) = predict_sksurv_cox(reduced_data_train, reduced_data_val, features_names, alpha=500, normalize=False)"
   ]
  },
  {
   "cell_type": "markdown",
   "metadata": {},
   "source": [
    "---\n",
    "\n",
    "### II - A - 3 ) Feature extraction from a slice (2D) of the masked CT scans (resnet50, pretrained='imagenet')"
   ]
  },
  {
   "cell_type": "markdown",
   "metadata": {},
   "source": [
    "Still trying to level up difficulty or going a bit further in the progression and with our approach, we will select this time the masked images to make use of the masks that we have with our dataset.\n",
    "\n",
    "Exactly as before :"
   ]
  },
  {
   "cell_type": "code",
   "execution_count": 145,
   "metadata": {},
   "outputs": [
    {
     "name": "stderr",
     "output_type": "stream",
     "text": [
      "300it [01:15,  3.95it/s]\n"
     ]
    }
   ],
   "source": [
    "### Extract Features\n",
    "img_features_df = feature_extractor(over_masked_images=True)"
   ]
  },
  {
   "cell_type": "code",
   "execution_count": 147,
   "metadata": {},
   "outputs": [],
   "source": [
    "#-----------------------------------------------------------------------------------------------------\n",
    "### Remove irrelevant patients\n",
    "reduced_img_features_df = img_features_df.copy()\n",
    "reduced_data_train = data_train.copy()\n",
    "reduced_data_val = data_val.copy()\n",
    "\n",
    "no_masks_patients = [327,256,3,391,263]\n",
    "for patient_id in no_masks_patients:\n",
    "    reduced_img_features_df = reduced_img_features_df.drop(patient_id,axis='index')\n",
    "    try:\n",
    "        reduced_data_train = reduced_data_train.drop(patient_id,axis='index')\n",
    "    except:\n",
    "        reduced_data_val = reduced_data_val.drop(patient_id,axis='index')\n",
    "\n",
    "#-----------------------------------------------------------------------------------------------------\n",
    "### Apply PCA\n",
    "from sklearn.decomposition import PCA\n",
    "transformer = PCA(n_components=100) # keep only 100 features\n",
    "# using PCA(0.99, whiten=True), we can ask it to preserve 99% of the variance in the projected data\n",
    "ld_data = transformer.fit_transform(reduced_img_features_df)\n",
    "\n",
    "columns_names = ['Img_Feature_{}'.format(i) for i in range(1,ld_data.shape[1]+1)]\n",
    "\n",
    "reduced_img_features_df = pd.DataFrame(ld_data, index=reduced_img_features_df.index, columns=columns_names)\n",
    "\n",
    "#-----------------------------------------------------------------------------------------------------\n",
    "### Create relevant splits\n",
    "# Apply the splitting process to the dataframe containing the features\n",
    "data_features_train = reduced_img_features_df.loc[reduced_data_train.index]\n",
    "data_features_val = reduced_img_features_df.loc[reduced_data_val.index]\n",
    "\n",
    "# Rebuild the split using all available columns\n",
    "reduced_data_train = data.loc[reduced_data_train.index]\n",
    "reduced_data_val = data.loc[reduced_data_val.index]\n",
    "\n",
    "# Concatenate the related dataframes to build the splits\n",
    "reduced_data_train = pd.concat([reduced_data_train, data_features_train], axis=1)\n",
    "reduced_data_val = pd.concat([reduced_data_val, data_features_val], axis=1)"
   ]
  },
  {
   "cell_type": "markdown",
   "metadata": {},
   "source": [
    "Now, let's fit the model :\n",
    "\n",
    "**Lifelines :**"
   ]
  },
  {
   "cell_type": "code",
   "execution_count": 148,
   "metadata": {
    "scrolled": true
   },
   "outputs": [
    {
     "name": "stdout",
     "output_type": "stream",
     "text": [
      "n=236, number of events=129\n",
      "\n",
      "                                      coef                      exp(coef)  se(coef)       z      p  lower 0.95  upper 0.95     \n",
      "SourceDataset                      -0.7135                         0.4899    0.5931 -1.2030 0.2290     -1.8759      0.4489     \n",
      "Nstage                              0.3559                         1.4274    0.1549  2.2972 0.0216      0.0522      0.6595    *\n",
      "original_shape_Sphericity         -12.3275                         0.0000    4.0247 -3.0629 0.0022    -20.2158     -4.4391   **\n",
      "original_shape_SurfaceVolumeRatio  -6.5609                         0.0014    4.0117 -1.6354 0.1020    -14.4237      1.3019     \n",
      "original_shape_Maximum3DDiameter   -0.0131                         0.9870    0.0120 -1.0934 0.2742     -0.0365      0.0104     \n",
      "original_glcm_JointEntropy          1.0758                         2.9322    0.5583  1.9269 0.0540     -0.0185      2.1700    .\n",
      "original_glcm_Idm                 -35.2001                         0.0000   36.4623 -0.9654 0.3344   -106.6648     36.2647     \n",
      "original_glcm_Id                   57.0554 6009416492379105864450048.0000   43.5266  1.3108 0.1899    -28.2552    142.3659     \n",
      "Img_Feature_1                       2.4958                        12.1317    1.2308  2.0278 0.0426      0.0835      4.9082    *\n",
      "Img_Feature_2                      -1.9564                         0.1414    0.5958 -3.2834 0.0010     -3.1242     -0.7886   **\n",
      "Img_Feature_3                      -1.2268                         0.2932    0.7568 -1.6210 0.1050     -2.7102      0.2565     \n",
      "Img_Feature_4                       1.5913                         4.9103    0.6649  2.3933 0.0167      0.2881      2.8945    *\n",
      "Img_Feature_5                       0.1235                         1.1314    0.6801  0.1815 0.8559     -1.2095      1.4564     \n",
      "Img_Feature_6                       0.5369                         1.7107    0.5959  0.9010 0.3676     -0.6310      1.7049     \n",
      "Img_Feature_7                       0.6541                         1.9234    0.6821  0.9589 0.3376     -0.6828      1.9909     \n",
      "Img_Feature_8                      -0.8817                         0.4141    0.6608 -1.3344 0.1821     -2.1769      0.4134     \n",
      "Img_Feature_9                       1.6860                         5.3977    0.6653  2.5340 0.0113      0.3819      2.9900    *\n",
      "Img_Feature_10                      0.1234                         1.1313    0.6339  0.1947 0.8457     -1.1191      1.3659     \n",
      "Img_Feature_11                     -0.1804                         0.8350    0.6536 -0.2760 0.7826     -1.4614      1.1006     \n",
      "Img_Feature_12                     -3.6156                         0.0269    0.7761 -4.6587 0.0000     -5.1368     -2.0945  ***\n",
      "Img_Feature_13                     -0.7402                         0.4770    0.5859 -1.2633 0.2065     -1.8886      0.4082     \n",
      "Img_Feature_14                      0.3546                         1.4256    0.7233  0.4902 0.6240     -1.0631      1.7723     \n",
      "Img_Feature_15                     -0.0840                         0.9195    0.7222 -0.1163 0.9074     -1.4996      1.3316     \n",
      "Img_Feature_16                      0.4736                         1.6057    0.8121  0.5832 0.5598     -1.1181      2.0652     \n",
      "Img_Feature_17                     -1.1331                         0.3220    0.7205 -1.5728 0.1158     -2.5452      0.2789     \n",
      "Img_Feature_18                     -1.6095                         0.2000    0.7477 -2.1526 0.0314     -3.0749     -0.1440    *\n",
      "Img_Feature_19                      0.6011                         1.8241    0.7074  0.8497 0.3955     -0.7855      1.9876     \n",
      "Img_Feature_20                     -0.7644                         0.4656    0.7402 -1.0327 0.3018     -2.2153      0.6864     \n",
      "Img_Feature_21                      3.1543                        23.4373    0.7882  4.0019 0.0001      1.6095      4.6992  ***\n",
      "Img_Feature_22                     -1.2158                         0.2965    0.7419 -1.6386 0.1013     -2.6699      0.2384     \n",
      "Img_Feature_23                     -1.0250                         0.3588    0.5755 -1.7812 0.0749     -2.1529      0.1029    .\n",
      "Img_Feature_24                     -1.3817                         0.2512    0.7316 -1.8887 0.0589     -2.8155      0.0522    .\n",
      "Img_Feature_25                     -0.7793                         0.4587    0.6394 -1.2188 0.2229     -2.0324      0.4739     \n",
      "Img_Feature_26                      1.1995                         3.3185    0.7944  1.5099 0.1311     -0.3575      2.7565     \n",
      "Img_Feature_27                      0.4563                         1.5782    0.7887  0.5785 0.5629     -1.0896      2.0021     \n",
      "Img_Feature_28                      0.9258                         2.5238    0.8430  1.0982 0.2721     -0.7264      2.5779     \n",
      "Img_Feature_29                     -0.6509                         0.5216    0.7664 -0.8493 0.3957     -2.1530      0.8512     \n",
      "Img_Feature_30                     -2.0664                         0.1266    0.8118 -2.5454 0.0109     -3.6576     -0.4753    *\n",
      "Img_Feature_31                      0.0430                         1.0440    0.8074  0.0533 0.9575     -1.5394      1.6255     \n",
      "Img_Feature_32                      0.3302                         1.3912    0.7272  0.4540 0.6498     -1.0952      1.7555     \n",
      "Img_Feature_33                      1.3568                         3.8836    0.7617  1.7812 0.0749     -0.1361      2.8497    .\n",
      "Img_Feature_34                      0.0570                         1.0587    0.7363  0.0775 0.9382     -1.3860      1.5001     \n",
      "Img_Feature_35                      0.1319                         1.1410    0.6462  0.2042 0.8382     -1.1346      1.3985     \n",
      "Img_Feature_36                      1.5677                         4.7958    0.7542  2.0788 0.0376      0.0896      3.0459    *\n",
      "Img_Feature_37                     -0.2693                         0.7639    0.7130 -0.3777 0.7056     -1.6667      1.1281     \n",
      "Img_Feature_38                      0.6625                         1.9396    0.7916  0.8369 0.4027     -0.8891      2.2141     \n",
      "Img_Feature_39                      1.4521                         4.2722    0.6904  2.1032 0.0355      0.0989      2.8054    *\n",
      "Img_Feature_40                      0.7926                         2.2090    0.7027  1.1278 0.2594     -0.5847      2.1699     \n",
      "Img_Feature_41                      0.1776                         1.1943    0.7386  0.2405 0.8100     -1.2699      1.6251     \n",
      "Img_Feature_42                      0.6626                         1.9398    0.7054  0.9393 0.3476     -0.7199      2.0451     \n",
      "Img_Feature_43                     -0.8632                         0.4218    0.9008 -0.9582 0.3380     -2.6288      0.9024     \n",
      "Img_Feature_44                      0.7127                         2.0396    0.7417  0.9609 0.3366     -0.7411      2.1666     \n",
      "Img_Feature_45                     -0.6886                         0.5023    0.7830 -0.8794 0.3792     -2.2234      0.8461     \n",
      "Img_Feature_46                     -0.8946                         0.4088    0.8057 -1.1102 0.2669     -2.4738      0.6847     \n",
      "Img_Feature_47                      2.0348                         7.6510    0.7262  2.8021 0.0051      0.6115      3.4581   **\n",
      "Img_Feature_48                      0.3670                         1.4435    0.8026  0.4573 0.6474     -1.2061      1.9401     \n",
      "Img_Feature_49                     -0.4272                         0.6524    0.7366 -0.5799 0.5620     -1.8709      1.0166     \n",
      "Img_Feature_50                     -0.8341                         0.4343    0.6863 -1.2154 0.2242     -2.1791      0.5110     \n",
      "Img_Feature_51                     -0.1323                         0.8761    0.8175 -0.1618 0.8714     -1.7345      1.4699     \n",
      "Img_Feature_52                     -0.8116                         0.4442    0.7408 -1.0955 0.2733     -2.2635      0.6404     \n",
      "Img_Feature_53                     -0.0624                         0.9395    0.7777 -0.0802 0.9361     -1.5866      1.4618     \n",
      "Img_Feature_54                     -0.8674                         0.4200    0.7899 -1.0981 0.2722     -2.4157      0.6808     \n",
      "Img_Feature_55                      0.5450                         1.7245    0.7567  0.7202 0.4714     -0.9381      2.0280     \n",
      "Img_Feature_56                      1.6559                         5.2379    0.8316  1.9914 0.0464      0.0261      3.2857    *\n",
      "Img_Feature_57                     -2.1589                         0.1154    0.9007 -2.3970 0.0165     -3.9242     -0.3937    *\n",
      "Img_Feature_58                     -0.8632                         0.4218    0.8331 -1.0362 0.3001     -2.4961      0.7696     \n",
      "Img_Feature_59                      0.0678                         1.0701    0.8116  0.0835 0.9335     -1.5229      1.6584     \n",
      "Img_Feature_60                     -0.0582                         0.9434    0.9476 -0.0615 0.9510     -1.9155      1.7990     \n",
      "Img_Feature_61                      1.1373                         3.1185    0.8613  1.3205 0.1867     -0.5508      2.8255     \n",
      "Img_Feature_62                     -0.5817                         0.5590    0.8322 -0.6990 0.4846     -2.2127      1.0493     \n",
      "Img_Feature_63                      0.6443                         1.9046    0.7416  0.8688 0.3850     -0.8092      2.0978     \n",
      "Img_Feature_64                      0.6624                         1.9395    0.8664  0.7646 0.4445     -1.0357      2.3606     \n",
      "Img_Feature_65                      0.4641                         1.5906    0.8226  0.5642 0.5726     -1.1482      2.0764     \n",
      "Img_Feature_66                     -0.2449                         0.7827    0.8317 -0.2945 0.7684     -1.8750      1.3851     \n",
      "Img_Feature_67                      0.8552                         2.3518    0.8287  1.0320 0.3021     -0.7690      2.4793     \n",
      "Img_Feature_68                      0.9820                         2.6697    0.8091  1.2137 0.2249     -0.6038      2.5677     \n",
      "Img_Feature_69                     -0.6453                         0.5245    0.8088 -0.7978 0.4250     -2.2305      0.9399     \n",
      "Img_Feature_70                      0.7446                         2.1055    0.8071  0.9225 0.3563     -0.8373      2.3264     \n",
      "Img_Feature_71                      0.0291                         1.0295    0.7822  0.0371 0.9704     -1.5041      1.5622     \n",
      "Img_Feature_72                     -0.5314                         0.5878    0.8117 -0.6547 0.5127     -2.1222      1.0594     \n",
      "Img_Feature_73                     -0.9473                         0.3878    0.8565 -1.1060 0.2687     -2.6259      0.7314     \n",
      "Img_Feature_74                     -1.4971                         0.2238    0.8799 -1.7014 0.0889     -3.2217      0.2275    .\n",
      "Img_Feature_75                     -0.9337                         0.3931    0.8060 -1.1585 0.2467     -2.5133      0.6460     \n",
      "Img_Feature_76                      0.5062                         1.6589    0.9599  0.5273 0.5980     -1.3752      2.3875     \n",
      "Img_Feature_77                     -0.9336                         0.3931    0.8752 -1.0668 0.2861     -2.6489      0.7817     \n",
      "Img_Feature_78                      0.9667                         2.6293    0.8647  1.1180 0.2636     -0.7280      2.6614     \n",
      "Img_Feature_79                     -0.2990                         0.7415    0.9119 -0.3279 0.7430     -2.0864      1.4884     \n",
      "Img_Feature_80                      0.9469                         2.5778    0.8662  1.0932 0.2743     -0.7508      2.6447     \n",
      "Img_Feature_81                      0.1764                         1.1929    0.9341  0.1888 0.8502     -1.6545      2.0072     \n",
      "Img_Feature_82                     -0.0817                         0.9215    0.8653 -0.0945 0.9247     -1.7777      1.6142     \n",
      "Img_Feature_83                      1.5300                         4.6181    0.8713  1.7560 0.0791     -0.1777      3.2376    .\n",
      "Img_Feature_84                      0.5638                         1.7574    0.8223  0.6857 0.4929     -1.0479      2.1755     \n",
      "Img_Feature_85                      1.9525                         7.0465    0.8092  2.4128 0.0158      0.3664      3.5386    *\n",
      "Img_Feature_86                     -0.7405                         0.4769    0.8888 -0.8331 0.4048     -2.4825      1.0016     \n",
      "Img_Feature_87                      1.5082                         4.5186    0.9075  1.6619 0.0965     -0.2705      3.2869    .\n",
      "Img_Feature_88                     -1.4616                         0.2319    0.8655 -1.6888 0.0913     -3.1580      0.2347    .\n",
      "Img_Feature_89                      2.8054                        16.5342    0.9367  2.9950 0.0027      0.9695      4.6413   **\n",
      "Img_Feature_90                     -0.0322                         0.9684    0.8875 -0.0362 0.9711     -1.7717      1.7074     \n",
      "Img_Feature_91                      2.1163                         8.3000    0.8957  2.3627 0.0181      0.3607      3.8718    *\n",
      "Img_Feature_92                      0.6986                         2.0109    0.9056  0.7714 0.4405     -1.0764      2.4735     \n",
      "Img_Feature_93                      1.1454                         3.1436    0.8405  1.3627 0.1730     -0.5020      2.7927     \n",
      "Img_Feature_94                     -0.4264                         0.6528    0.8774 -0.4860 0.6270     -2.1461      1.2933     \n",
      "Img_Feature_95                     -1.0387                         0.3539    0.8607 -1.2068 0.2275     -2.7257      0.6483     \n",
      "Img_Feature_96                      1.7523                         5.7677    0.9425  1.8591 0.0630     -0.0950      3.5996    .\n",
      "Img_Feature_97                      2.1663                         8.7263    0.8834  2.4523 0.0142      0.4349      3.8978    *\n",
      "Img_Feature_98                     -0.9396                         0.3908    0.8524 -1.1023 0.2703     -2.6103      0.7311     \n",
      "Img_Feature_99                      0.4519                         1.5713    0.9151  0.4938 0.6214     -1.3417      2.2455     \n",
      "Img_Feature_100                    -0.7405                         0.4769    0.8550 -0.8661 0.3865     -2.4164      0.9353     \n",
      "---\n",
      "Signif. codes:  0 '***' 0.001 '**' 0.01 '*' 0.05 '.' 0.1 ' ' 1 \n",
      "\n",
      "Concordance = 0.811\n",
      "Likelihood ratio test = 201.150 on 108 df, p=0.00000\n",
      "Performance on the validation set (CI) : 0.598\n"
     ]
    }
   ],
   "source": [
    "features_names = ['SurvivalTime', 'Event', 'SourceDataset', 'Nstage', \n",
    "                  'original_shape_Sphericity', 'original_shape_SurfaceVolumeRatio', \n",
    "                  'original_shape_Maximum3DDiameter', 'original_glcm_JointEntropy',\n",
    "                  'original_glcm_Idm','original_glcm_Id'] + list(reduced_img_features_df.columns)\n",
    "\n",
    "(cph, reduced_data_train, reduced_data_val) = predict_lifelines_cox(reduced_data_train, \n",
    "                                                                reduced_data_val, features_names)"
   ]
  },
  {
   "cell_type": "markdown",
   "metadata": {},
   "source": [
    "And finally, iterate to select only relevant features :"
   ]
  },
  {
   "cell_type": "code",
   "execution_count": 149,
   "metadata": {},
   "outputs": [
    {
     "name": "stdout",
     "output_type": "stream",
     "text": [
      "Performance on the validation set (CI) : 0.566\n",
      "Performance on the validation set (CI) : 0.616\n",
      "Performance on the validation set (CI) : 0.616\n",
      "n=236, number of events=129\n",
      "\n",
      "                  coef  exp(coef)  se(coef)       z      p  lower 0.95  upper 0.95     \n",
      "Nstage          0.3217     1.3795    0.0784  4.1033 0.0000      0.1680      0.4754  ***\n",
      "Img_Feature_1  -0.5046     0.6038    0.2155 -2.3413 0.0192     -0.9270     -0.0822    *\n",
      "Img_Feature_30 -1.1681     0.3110    0.5127 -2.2784 0.0227     -2.1729     -0.1633    *\n",
      "---\n",
      "Signif. codes:  0 '***' 0.001 '**' 0.01 '*' 0.05 '.' 0.1 ' ' 1 \n",
      "\n",
      "Concordance = 0.657\n",
      "Likelihood ratio test = 35.314 on 3 df, p=0.00000\n"
     ]
    }
   ],
   "source": [
    "lifelines_cox_param_selection(cph, features_names, reduced_data_train, reduced_data_val, p_value_thresh=0.05)"
   ]
  },
  {
   "cell_type": "markdown",
   "metadata": {},
   "source": [
    "> This approach yields even worse results ! Anyway, let's head to another approach which is trying to consider the whole CT scan volume and not only the biggest slice."
   ]
  },
  {
   "cell_type": "markdown",
   "metadata": {},
   "source": [
    "**Scikit-survival :**"
   ]
  },
  {
   "cell_type": "code",
   "execution_count": 150,
   "metadata": {},
   "outputs": [
    {
     "name": "stdout",
     "output_type": "stream",
     "text": [
      "Performance on the training set (CI) : 0.674\n",
      "Performance on the validation set (CI) : 0.698\n"
     ]
    }
   ],
   "source": [
    "features_names = ['SurvivalTime', 'Event', 'SourceDataset', 'Nstage', \n",
    "                  'original_shape_Sphericity', 'original_shape_SurfaceVolumeRatio', \n",
    "                  'original_shape_Maximum3DDiameter', 'original_glcm_JointEntropy',\n",
    "                  'original_glcm_Idm','original_glcm_Id'] + list(reduced_img_features_df.columns)\n",
    "\n",
    "(cph, _, _) = predict_sksurv_cox(reduced_data_train, reduced_data_val, features_names, alpha=500, normalize=False)"
   ]
  },
  {
   "cell_type": "markdown",
   "metadata": {},
   "source": [
    "---\n",
    "\n",
    "### II - A - 3 ) Feature extraction from 3 slices (2D) of the CT scans (resnet50, pretrained='imagenet')"
   ]
  },
  {
   "cell_type": "markdown",
   "metadata": {},
   "source": [
    "Let's try to extract features from each biggest slice along each dimension of the CT scan. Thus we get 3 images and get $3*2048$ features (in order to use the 3D property of our data this time) :"
   ]
  },
  {
   "cell_type": "code",
   "execution_count": 155,
   "metadata": {},
   "outputs": [
    {
     "name": "stdout",
     "output_type": "stream",
     "text": [
      "-1022 1132\n",
      "False True\n"
     ]
    },
    {
     "data": {
      "image/png": "[encoded data removed]",
      "text/plain": [
       "<Figure size 1152x576 with 6 Axes>"
      ]
     },
     "metadata": {
      "needs_background": "light"
     },
     "output_type": "display_data"
    },
    {
     "name": "stdout",
     "output_type": "stream",
     "text": [
      "-1018 1230\n",
      "False True\n"
     ]
    },
    {
     "data": {
      "image/png": "[encoded data removed]",
      "text/plain": [
       "<Figure size 1152x576 with 6 Axes>"
      ]
     },
     "metadata": {
      "needs_background": "light"
     },
     "output_type": "display_data"
    },
    {
     "name": "stderr",
     "output_type": "stream",
     "text": [
      "Clipping input data to the valid range for imshow with RGB data ([0..1] for floats or [0..255] for integers).\n"
     ]
    },
    {
     "name": "stdout",
     "output_type": "stream",
     "text": [
      "-1024 1164\n",
      "False True\n"
     ]
    },
    {
     "data": {
      "image/png": "[encoded data removed]",
      "text/plain": [
       "<Figure size 1152x576 with 6 Axes>"
      ]
     },
     "metadata": {
      "needs_background": "light"
     },
     "output_type": "display_data"
    },
    {
     "name": "stderr",
     "output_type": "stream",
     "text": [
      "Clipping input data to the valid range for imshow with RGB data ([0..1] for floats or [0..255] for integers).\n"
     ]
    },
    {
     "name": "stdout",
     "output_type": "stream",
     "text": [
      "-1024 2105\n",
      "False True\n"
     ]
    },
    {
     "name": "stderr",
     "output_type": "stream",
     "text": [
      "Clipping input data to the valid range for imshow with RGB data ([0..1] for floats or [0..255] for integers).\n"
     ]
    },
    {
     "data": {
      "image/png": "[encoded data removed]",
      "text/plain": [
       "<Figure size 1152x576 with 6 Axes>"
      ]
     },
     "metadata": {
      "needs_background": "light"
     },
     "output_type": "display_data"
    },
    {
     "name": "stdout",
     "output_type": "stream",
     "text": [
      "-1005 764\n",
      "False True\n"
     ]
    },
    {
     "data": {
      "image/png": "[encoded data removed]",
      "text/plain": [
       "<Figure size 1152x576 with 6 Axes>"
      ]
     },
     "metadata": {
      "needs_background": "light"
     },
     "output_type": "display_data"
    }
   ],
   "source": [
    "for patient_id in data_train.index[:5]:\n",
    "    patient_id_str = '00'+str(patient_id)\n",
    "    patient_id_str = patient_id_str[-3:]\n",
    "    archive = np.load(os.path.join(train_root,'images/patient_{}.npz'.format(patient_id_str)))\n",
    "    scan = archive['scan'] # a np.array\n",
    "    mask = archive['mask'] # a np.array\n",
    "    \n",
    "    print(np.min(scan), np.max(scan))\n",
    "    print(np.min(mask), np.max(mask))\n",
    "    \n",
    "    plt.figure(figsize=(16,8))\n",
    "    plt.suptitle('CT scan of patient_{}'.format(patient_id_str), y=0.7)\n",
    "    \n",
    "    for slice_dim in range(3):\n",
    "        slice_of_interest = np.zeros((92,92,3))\n",
    "        soi = get_slice(to_pixel_values(scan), mask, slice_dim)\n",
    "        for dim in range(3):\n",
    "            slice_of_interest[:,:,dim] = soi\n",
    "        slice_of_interest = slice_of_interest.astype(int)\n",
    "    \n",
    "        plt.subplot(1,6,2*slice_dim+1)\n",
    "        plt.imshow(slice_of_interest)\n",
    "        plt.title('Dimension {}'.format(slice_dim+1))\n",
    "        \n",
    "        mask_of_interest = np.zeros((92,92,3))\n",
    "        moi = get_slice(mask, mask, slice_dim)\n",
    "        for dim in range(3):\n",
    "            mask_of_interest[:,:,dim] = moi\n",
    "        mask_of_interest = mask_of_interest.astype(int)*255\n",
    "    \n",
    "        plt.subplot(1,6,2*slice_dim+2)\n",
    "        plt.imshow(mask_of_interest)\n",
    "        plt.title('Dimension {}'.format(slice_dim+1))\n",
    "\n",
    "    plt.show()"
   ]
  },
  {
   "cell_type": "code",
   "execution_count": 152,
   "metadata": {
    "scrolled": true
   },
   "outputs": [
    {
     "name": "stderr",
     "output_type": "stream",
     "text": [
      "300it [01:05,  4.60it/s]\n",
      "300it [01:11,  4.21it/s]\n",
      "300it [01:07,  4.48it/s]\n"
     ]
    }
   ],
   "source": [
    "img_features_dim = []\n",
    "for slice_dim in range(3):\n",
    "    img_features_dim.append(feature_extractor(over_masked_images=False, slice_dim=slice_dim))"
   ]
  },
  {
   "cell_type": "code",
   "execution_count": 450,
   "metadata": {},
   "outputs": [],
   "source": [
    "new_columns_names = ['Img{}_Feature_{}'.format(slice_dim, feat_idx) for slice_dim in range(3) for feat_idx in range(1,2049)]\n",
    "new_index_names = img_features_dim[0].index\n",
    "triple_img_features_df = pd.concat(img_features_dim, axis=1)\n",
    "triple_img_features_df.columns, triple_img_features_df.index = new_columns_names, new_index_names"
   ]
  },
  {
   "cell_type": "code",
   "execution_count": null,
   "metadata": {},
   "outputs": [],
   "source": [
    "#-----------------------------------------------------------------------------------------------------\n",
    "### Remove irrelevant patients\n",
    "reduced_img_features_df = triple_img_features_df.copy()\n",
    "reduced_data_train = data_train.copy()\n",
    "reduced_data_val = data_val.copy()\n",
    "\n",
    "no_masks_patients = [327,256,3,391,263]\n",
    "for patient_id in no_masks_patients:\n",
    "    reduced_img_features_df = reduced_img_features_df.drop(patient_id,axis='index')\n",
    "    try:\n",
    "        reduced_data_train = reduced_data_train.drop(patient_id,axis='index')\n",
    "    except:\n",
    "        reduced_data_val = reduced_data_val.drop(patient_id,axis='index')\n",
    "\n",
    "#-----------------------------------------------------------------------------------------------------\n",
    "### Apply PCA\n",
    "from sklearn.decomposition import PCA\n",
    "transformer = PCA(n_components=50) # keep only 100 features\n",
    "# using PCA(0.99, whiten=True), we can ask it to preserve 99% of the variance in the projected data\n",
    "ld_data = transformer.fit_transform(reduced_img_features_df)\n",
    "\n",
    "reduced_img_features_df = pd.DataFrame(ld_data, index=reduced_img_features_df.index,\n",
    "                                   columns=columns_names[:ld_data.shape[1]])\n",
    "\n",
    "#-----------------------------------------------------------------------------------------------------\n",
    "### Create relevant splits\n",
    "# Apply the splitting process to the dataframe containing the features\n",
    "data_features_train = reduced_img_features_df.loc[reduced_data_train.index]\n",
    "data_features_val = reduced_img_features_df.loc[reduced_data_val.index]\n",
    "\n",
    "# Rebuild the split using all available columns\n",
    "reduced_data_train = data.loc[reduced_data_train.index]\n",
    "reduced_data_val = data.loc[reduced_data_val.index]\n",
    "\n",
    "# Concatenate the related dataframes to build the splits\n",
    "reduced_data_train = pd.concat([reduced_data_train, data_features_train], axis=1)\n",
    "reduced_data_val = pd.concat([reduced_data_val, data_features_val], axis=1)"
   ]
  },
  {
   "cell_type": "markdown",
   "metadata": {},
   "source": [
    "**Lifelines :**"
   ]
  },
  {
   "cell_type": "code",
   "execution_count": null,
   "metadata": {},
   "outputs": [],
   "source": [
    "features_names = ['SurvivalTime', 'Event', 'SourceDataset', 'Nstage', \n",
    "                  'original_shape_Sphericity', 'original_shape_SurfaceVolumeRatio', \n",
    "                  'original_shape_Maximum3DDiameter', 'original_glcm_JointEntropy',\n",
    "                  'original_glcm_Idm','original_glcm_Id'] + list(reduced_img_features_df.columns)\n",
    "\n",
    "(cph, reduced_data_train, reduced_data_val) = predict_lifelines_cox(reduced_data_train, reduced_data_val,\n",
    "                                                                    features_names)"
   ]
  },
  {
   "cell_type": "markdown",
   "metadata": {},
   "source": [
    "And finally, iterate to select only relevant features :"
   ]
  },
  {
   "cell_type": "code",
   "execution_count": 668,
   "metadata": {},
   "outputs": [
    {
     "name": "stdout",
     "output_type": "stream",
     "text": [
      "Performance on the validation set (CI) : 0.677\n",
      "Performance on the validation set (CI) : 0.655\n",
      "n=236, number of events=129\n",
      "\n",
      "                                    coef  exp(coef)  se(coef)       z      p  lower 0.95  upper 0.95     \n",
      "original_shape_Sphericity         2.8188    16.7560    1.1416  2.4691 0.0135      0.5812      5.0563    *\n",
      "original_shape_Maximum3DDiameter  0.0169     1.0170    0.0032  5.2195 0.0000      0.0105      0.0232  ***\n",
      "Img_Feature_13                   -0.7704     0.4628    0.2877 -2.6780 0.0074     -1.3342     -0.2066   **\n",
      "Img_Feature_38                    0.7660     2.1511    0.3259  2.3504 0.0188      0.1272      1.4047    *\n",
      "---\n",
      "Signif. codes:  0 '***' 0.001 '**' 0.01 '*' 0.05 '.' 0.1 ' ' 1 \n",
      "\n",
      "Concordance = 0.657\n",
      "Likelihood ratio test = 40.468 on 4 df, p=0.00000\n"
     ]
    }
   ],
   "source": [
    "lifelines_cox_param_selection(cph, features_names, reduced_data_train, reduced_data_val, p_value_thresh=0.05)"
   ]
  },
  {
   "cell_type": "markdown",
   "metadata": {},
   "source": [
    "**Scikit-survival :**"
   ]
  },
  {
   "cell_type": "code",
   "execution_count": 150,
   "metadata": {},
   "outputs": [
    {
     "name": "stdout",
     "output_type": "stream",
     "text": [
      "Performance on the training set (CI) : 0.674\n",
      "Performance on the validation set (CI) : 0.698\n"
     ]
    }
   ],
   "source": [
    "features_names = ['SurvivalTime', 'Event', 'SourceDataset', 'Nstage', \n",
    "                  'original_shape_Sphericity', 'original_shape_SurfaceVolumeRatio', \n",
    "                  'original_shape_Maximum3DDiameter', 'original_glcm_JointEntropy',\n",
    "                  'original_glcm_Idm','original_glcm_Id'] + list(reduced_img_features_df.columns)\n",
    "\n",
    "(cph, _, _) = predict_sksurv_cox(reduced_data_train, reduced_data_val, features_names, alpha=500, normalize=False)"
   ]
  },
  {
   "cell_type": "markdown",
   "metadata": {},
   "source": [
    "Unfortunately we get even worse results... The issue probably come from the PCA to reduce the number of parameters which is much to high in a resnet50..."
   ]
  },
  {
   "cell_type": "markdown",
   "metadata": {},
   "source": [
    "Then, we should try with a resnet18 which extracts 512 features instead of 2048 and capturing convenient features !"
   ]
  },
  {
   "cell_type": "markdown",
   "metadata": {},
   "source": [
    "---\n",
    "\n",
    "### II - A - 4 ) Train our own small 3D CNN on a regression task and eventually use it to extract features"
   ]
  },
  {
   "cell_type": "markdown",
   "metadata": {},
   "source": [
    "Now, we would like to make full use of the 3D property of our data and not only what is called 2,5D. Why do we create our own model ? Well, first of all to the best of my knowledge there isn't any pretrained 3D model available in the litterature, and moreover, a model pretrained on imagenet as before might not be very good to study medical images. For these reasons, we will build our own 3D model using dilated kernels (their efficiency in 3D has been proven in the litterature or at least they are widely used)."
   ]
  },
  {
   "cell_type": "markdown",
   "metadata": {},
   "source": [
    "Usually Deep Learning is  used for classification. Thus we could train a network to predict the histology of our cohort and then use the network to extract features. But is this approach really a good one ? Indeed, a representation of the images learned by a network trying to predict which tumour it is might not be a good representation to predict survival (cf the survival curves plotted before)...\n",
    "\n",
    "> A better approach could be instead to remove the final softmax or sigmoid and choose to have only one final neuron. This way our network would be able to perform regression. We then train this network to predict patients' survival : such a network is more likely to get better representations of the tumours for our task. If we do have such a network and that it is trained, then we would have two options : either use the predictions to get a CI score (but in this case the network don't get the subtle issue of patients leaving the study) or use it to extract relevant features for survival prediction that could be passed into a cox model as we did before."
   ]
  },
  {
   "cell_type": "code",
   "execution_count": 151,
   "metadata": {},
   "outputs": [],
   "source": [
    "import torch\n",
    "import torch.nn as nn\n",
    "import torch.nn.functional as F"
   ]
  },
  {
   "cell_type": "code",
   "execution_count": 631,
   "metadata": {},
   "outputs": [
    {
     "name": "stdout",
     "output_type": "stream",
     "text": [
      "Net(\n",
      "  (conv1): Conv3d(1, 18, kernel_size=(5, 5, 5), stride=(1, 1, 1), dilation=(2, 2, 2))\n",
      "  (pool): MaxPool3d(kernel_size=2, stride=2, padding=0, dilation=1, ceil_mode=False)\n",
      "  (conv2): Conv3d(18, 32, kernel_size=(3, 3, 3), stride=(1, 1, 1), dilation=(2, 2, 2))\n",
      "  (fc1): Linear(in_features=219488, out_features=1024, bias=True)\n",
      "  (fc2): Linear(in_features=1024, out_features=256, bias=True)\n",
      "  (fc3): Linear(in_features=256, out_features=1, bias=True)\n",
      ")\n"
     ]
    }
   ],
   "source": [
    "class Regressor(nn.Module):\n",
    "    \n",
    "    def __init__(self):\n",
    "        super(Regressor,self).__init__()\n",
    "        self.conv1 = nn.Conv3d(in_channels=1, out_channels=18, kernel_size=5, dilation=2)\n",
    "        #\n",
    "        self.pool = nn.MaxPool3d(2)\n",
    "        self.conv2 = nn.Conv3d(in_channels=18, out_channels=32, kernel_size=3, dilation=2)\n",
    "        self.fc1 = nn.Linear(32 * 19 * 19 * 19, 1024)\n",
    "        self.fc2 = nn.Linear(1024, 256)\n",
    "        self.fc3 = nn.Linear(256,1)\n",
    "        \n",
    "    def forward(self,x):\n",
    "        x = self.pool(F.relu(self.conv1(x)))\n",
    "        x = self.pool(F.relu(self.conv2(x)))\n",
    "        x = x.view(-1, 32 * 19 * 19 * 19)\n",
    "        x = F.relu(self.fc1(x))\n",
    "        x = F.relu(self.fc2(x))\n",
    "        x = self.fc3(x)\n",
    "        return x\n",
    "\n",
    "model = Regressor()\n",
    "print(model) # Print the layers containing trainable parameters only."
   ]
  },
  {
   "cell_type": "markdown",
   "metadata": {},
   "source": [
    "What could be nice is to implement data augmentation for 3D volumes but does it work that easily ? Moreover, it is important that augmented images are still possible images we could come across (stay in the same distribution) ! In our case, we can see the ribs sometimes and the patient seem to be always in the same position with its organs located at certain places. Augmenting the data with rotations and symmetry might not make that much sense... If needed in the future (if I have time and that I have changed my mind), here is the code in 2D to do it :"
   ]
  },
  {
   "cell_type": "markdown",
   "metadata": {},
   "source": [
    "```python\n",
    "\n",
    "import cv2\n",
    "import numpy as np\n",
    "\n",
    "\n",
    "class Preprocessing(): \n",
    "    def __init__(self, config): \n",
    "        self.transforms = []\n",
    "        if hasattr(config, 'resize'):\n",
    "            self.transforms.append(Resize(config.resize.scale, keep_ratio=config.resize.keep_ratio))\n",
    "        if hasattr(config, 'random_rotation'): \n",
    "            self.transforms.append(Random_rotation(config.random_rotation.angle))\n",
    "        if hasattr(config, 'random_crop'): \n",
    "            self.transforms.append(Random_crop(config.random_crop.proportion))\n",
    "        if hasattr(config, 'random_flip'): \n",
    "            self.transforms.append(Random_flip(config.random_flip.probability))\n",
    "            \n",
    "    def __call__(self,img): \n",
    "        for t in self.transforms: \n",
    "            img = t(img)\n",
    "        return img\n",
    "    \n",
    "    \n",
    "class Resize():\n",
    "    \n",
    "    def __init__(self, scale, keep_ratio=True):\n",
    "            self.scale = scale\n",
    "            self.keep_ratio = keep_ratio\n",
    "            \n",
    "    def __call__(self, img): \n",
    "        if self.keep_ratio:\n",
    "            h, w, _ = img.shape\n",
    "            ratio = max(self.scale[0] / h, self.scale[1] / w)\n",
    "            img = cv2.resize(img, dsize=None, fx=ratio, fy=ratio)\n",
    "            img = cv2.copyMakeBorder(img, max(0, self.scale[0] - img.shape[0]) // 2, \n",
    "                                         max(0, self.scale[0] - img.shape[0]) // 2 + 1,\n",
    "                                         max(0, self.scale[1] - img.shape[1]) // 2,\n",
    "                                         max(0, self.scale[1] - img.shape[1]) // 2 + 1,\n",
    "                                         cv2.BORDER_CONSTANT, 0)\n",
    "            h, w, _ = img.shape\n",
    "            img = img[h // 2 - self.scale[0] // 2 : h // 2 + self.scale[0] // 2 ,\n",
    "              w // 2 - self.scale[1] // 2 : w // 2 + self.scale[1] // 2 ,:]\n",
    "        else: \n",
    "            raise NotImplementedError('keep ratio == False is  not implemented')\n",
    "        return img\n",
    "    \n",
    "    \n",
    "class Random_rotation():\n",
    "    def __init__(self, angle):\n",
    "        self.angle = angle\n",
    "    def __call__(self, img):\n",
    "        rows,cols,_ = img.shape\n",
    "        angle = (2 * np.random.random() - 1) * self.angle \n",
    "        M = cv2.getRotationMatrix2D(((cols-1)/2.0,(rows-1)/2.0),angle,1)\n",
    "        img = cv2.warpAffine(img,M,(cols,rows))\n",
    "        return img\n",
    "        \n",
    "class Random_crop():\n",
    "    def __init__(self, proportion):\n",
    "        self.proportion = proportion\n",
    "    def __call__(self, img): \n",
    "        proportion = 1 - (1- self.proportion) * np.random.random()\n",
    "        h, w, _ = img.shape \n",
    "        x_min, y_min = np.random.randint(0, max(1,h - proportion * h)) , np.random.randint(0, max(1,w - proportion * w)) \n",
    "        img = img[x_min : x_min + int(proportion * h),\n",
    "                  y_min : y_min + int( proportion * w), :]\n",
    "        return img\n",
    "    \n",
    "class Random_flip():\n",
    "    def __init__(self, probability):\n",
    "        self.probability = probability\n",
    "    def __call__(self, img): \n",
    "        if np.random.random() < self.probability :\n",
    "            img = cv2.flip(img, flipCode=1)\n",
    "        return img\n",
    "    \n",
    "```"
   ]
  },
  {
   "cell_type": "markdown",
   "metadata": {},
   "source": [
    "We need to create the dataset class properly in order to be called by torch's `DataLoader` function."
   ]
  },
  {
   "cell_type": "code",
   "execution_count": 157,
   "metadata": {},
   "outputs": [],
   "source": [
    "class SurvivalDataset(object):\n",
    "    '''\n",
    "    The SurvivalDataset instance inherit from the standard torch.utils.data.Dataset, it \n",
    "    corresponds to the survival dataset structure\n",
    "    \n",
    "    Parameters\n",
    "    ----------\n",
    "    image_dir : str\n",
    "        path to the data main folder\n",
    "        \n",
    "    info_file : pandas DataFrame \n",
    "        file containing the images info\n",
    "        \n",
    "    split_name : str in ['train', 'val', 'test']\n",
    "        which type of split it is\n",
    "    \n",
    "    augmentation : dict\n",
    "        which augmentation to apply to data\n",
    "    \n",
    "    Attributes\n",
    "    ----------\n",
    "    image_dir : str \n",
    "        path to the data main folder which contains the\n",
    "        images in training_data/images or test_data/images\n",
    "    samples : pandas.Dataframe\n",
    "        the Dataframe containing the information about the different images of the dataset\n",
    "    '''\n",
    "    def __init__(self, image_dir, info_file, split_name, augmentation=None):\n",
    "        self.image_dir = image_dir\n",
    "        # load all image files, sorting them to\n",
    "        # ensure that they are aligned \n",
    "        \n",
    "        self.samples = info_file\n",
    "        \n",
    "        self.samples.rename(columns={'SurvivalTime':'label'}, inplace=True)\n",
    "            \n",
    "        if split_name == 'train' and augmentation!=None:\n",
    "            self.augmentation = Preprocessing(augmentation)\n",
    "        else : \n",
    "            self.augmentation = None   \n",
    "        \n",
    "        \n",
    "    def __getitem__(self, idx):\n",
    "        # load images and masks\n",
    "        infos = self.samples.iloc[idx]\n",
    "        patient_id = infos.name\n",
    "        patient_id_str = '00'+str(patient_id)\n",
    "        patient_id_str = patient_id_str[-3:]\n",
    "        path = 'patient_{}.npz'.format(patient_id_str)\n",
    "        img_path = os.path.join(self.image_dir, path)\n",
    "        scan = np.load(img_path)['scan']\n",
    "        img = to_pixel_values(scan)\n",
    "        \n",
    "        infos = infos.to_dict()\n",
    "        \n",
    "        if self.augmentation is not None: \n",
    "            img = self.augmentation(img)\n",
    "        img = img.copy().astype(np.float32, copy=True) / 255\n",
    "        img = img.reshape(1,92,92,92)\n",
    "        return img, infos\n",
    "    \n",
    "    def __len__(self):\n",
    "        return self.samples.shape[0]"
   ]
  },
  {
   "cell_type": "markdown",
   "metadata": {},
   "source": [
    "Now, we have to train this NN regressor :"
   ]
  },
  {
   "cell_type": "code",
   "execution_count": 599,
   "metadata": {},
   "outputs": [
    {
     "name": "stdout",
     "output_type": "stream",
     "text": [
      "Train Epoch: 0 [0/240 (0%)]\tavg Loss: 1.614862e+00\t Loss: 1.614862e+00\n",
      "Train Epoch: 0 [24/240 (10%)]\tavg Loss: 1.647940e+00\t Loss: 1.945638e+00\n",
      "Train Epoch: 0 [48/240 (20%)]\tavg Loss: 1.563093e+00\t Loss: 7.994737e-01\n",
      "Train Epoch: 0 [72/240 (30%)]\tavg Loss: 1.464561e+00\t Loss: 5.777713e-01\n",
      "Train Epoch: 0 [96/240 (40%)]\tavg Loss: 1.446841e+00\t Loss: 1.287360e+00\n",
      "Train Epoch: 0 [120/240 (50%)]\tavg Loss: 1.373188e+00\t Loss: 7.103094e-01\n",
      "Train Epoch: 0 [144/240 (60%)]\tavg Loss: 1.354104e+00\t Loss: 1.182345e+00\n",
      "Train Epoch: 0 [168/240 (70%)]\tavg Loss: 1.280946e+00\t Loss: 6.225324e-01\n",
      "Train Epoch: 0 [192/240 (80%)]\tavg Loss: 1.187098e+00\t Loss: 3.424574e-01\n",
      "Train Epoch: 0 [216/240 (90%)]\tavg Loss: 1.150147e+00\t Loss: 8.175908e-01\n",
      "epoch : 0, val_loss : 0.7608572840690613\n",
      "Train Epoch: 1 [0/240 (0%)]\tavg Loss: 5.900698e-01\t Loss: 5.900698e-01\n",
      "Train Epoch: 1 [24/240 (10%)]\tavg Loss: 5.972984e-01\t Loss: 6.623559e-01\n",
      "Train Epoch: 1 [48/240 (20%)]\tavg Loss: 5.874622e-01\t Loss: 4.989362e-01\n",
      "Train Epoch: 1 [72/240 (30%)]\tavg Loss: 5.631017e-01\t Loss: 3.438573e-01\n",
      "Train Epoch: 1 [96/240 (40%)]\tavg Loss: 5.704397e-01\t Loss: 6.364818e-01\n",
      "Train Epoch: 1 [120/240 (50%)]\tavg Loss: 5.614061e-01\t Loss: 4.801036e-01\n",
      "Train Epoch: 1 [144/240 (60%)]\tavg Loss: 6.084604e-01\t Loss: 1.031949e+00\n",
      "Train Epoch: 1 [168/240 (70%)]\tavg Loss: 6.094183e-01\t Loss: 6.180397e-01\n",
      "Train Epoch: 1 [192/240 (80%)]\tavg Loss: 5.779849e-01\t Loss: 2.950843e-01\n",
      "Train Epoch: 1 [216/240 (90%)]\tavg Loss: 5.806143e-01\t Loss: 6.042787e-01\n",
      "epoch : 1, val_loss : 0.6902624368667603\n",
      "Train Epoch: 2 [0/240 (0%)]\tavg Loss: 6.332871e-01\t Loss: 6.332871e-01\n",
      "Train Epoch: 2 [24/240 (10%)]\tavg Loss: 6.500331e-01\t Loss: 8.007473e-01\n",
      "Train Epoch: 2 [48/240 (20%)]\tavg Loss: 6.197278e-01\t Loss: 3.469799e-01\n",
      "Train Epoch: 2 [72/240 (30%)]\tavg Loss: 5.888770e-01\t Loss: 3.112199e-01\n",
      "Train Epoch: 2 [96/240 (40%)]\tavg Loss: 5.870205e-01\t Loss: 5.703118e-01\n",
      "Train Epoch: 2 [120/240 (50%)]\tavg Loss: 5.751818e-01\t Loss: 4.686336e-01\n",
      "Train Epoch: 2 [144/240 (60%)]\tavg Loss: 5.960312e-01\t Loss: 7.836753e-01\n",
      "Train Epoch: 2 [168/240 (70%)]\tavg Loss: 6.101486e-01\t Loss: 7.372060e-01\n",
      "Train Epoch: 2 [192/240 (80%)]\tavg Loss: 5.804059e-01\t Loss: 3.127208e-01\n",
      "Train Epoch: 2 [216/240 (90%)]\tavg Loss: 5.834124e-01\t Loss: 6.104716e-01\n",
      "epoch : 2, val_loss : 0.6347916126251221\n",
      "Finished Training\n"
     ]
    }
   ],
   "source": [
    "import torch.optim as optim\n",
    "\n",
    "train_dataset = SurvivalDataset(image_dir='training_data/images', info_file=data_train, split_name='train')\n",
    "train_data_loader = torch.utils.data.DataLoader(train_dataset,batch_size=24, num_workers=0, drop_last=True)\n",
    "validation_dataset = SurvivalDataset(image_dir='training_data/images', info_file=data_val, split_name='val')\n",
    "val_data_loader = torch.utils.data.DataLoader(validation_dataset,batch_size=24, num_workers=0, drop_last=True)\n",
    "\n",
    "device = torch.device('cuda') if torch.cuda.is_available() else torch.device('cpu')\n",
    "model = Regressor()\n",
    "model.to(device)\n",
    "\n",
    "loss_function = nn.MSELoss()\n",
    "optimizer = optim.SGD(model.parameters(), lr=0.001, momentum=0.9)\n",
    "\n",
    "model.train()\n",
    "for epoch in range(3): # loop over the dataset multiple times\n",
    "    avg_loss = 0.0\n",
    "    for batch_idx, (inputs, labels) in enumerate(train_data_loader,0): \n",
    "        # get the inputs\n",
    "        inputs, labels = inputs.to(device), (labels['label']).to(device)\n",
    "        \n",
    "        # zero the parameter gradients\n",
    "        optimizer.zero_grad()\n",
    "        \n",
    "        # forward + backward + optimize\n",
    "        outputs = model(inputs)\n",
    "        labels = labels.type(torch.float32)/1000. # In order to prevent NaN issues\n",
    "        loss = loss_function(outputs, labels)\n",
    "        loss.backward()\n",
    "        optimizer.step()\n",
    "            \n",
    "        if avg_loss == 0 : \n",
    "            avg_loss = loss.item()\n",
    "        avg_loss = 0.9 * avg_loss + 0.1 * loss.item()\n",
    "        if batch_idx % 1 == 0:\n",
    "            print('Train Epoch: {} [{}/{} ({:.0f}%)]\\tavg Loss: {:.6e}\\t Loss: {:.6e}'.format(\n",
    "                epoch, batch_idx * len(inputs), len(train_data_loader.dataset),\n",
    "                100. * batch_idx / len(train_data_loader), avg_loss, loss.item()))\n",
    "    \n",
    "    # Evaluate the model on the validation set\n",
    "    model.eval()\n",
    "    with torch.no_grad():\n",
    "        validation_loss = 0\n",
    "        for batch_idx, (inputs, labels) in enumerate(val_data_loader):\n",
    "            inputs, labels = inputs.to(device), (labels['label']).to(device)\n",
    "            output = model(inputs)\n",
    "            labels = labels.type(torch.float32)/1000. # In order to prevent NaN issues\n",
    "            validation_loss += loss_function(output, labels).item()  # sum up batch loss\n",
    "\n",
    "        val_loss = validation_loss/len(val_data_loader)\n",
    "        print('epoch : {}, val_loss : {}'.format(epoch, val_loss))\n",
    "        \n",
    "torch.save(model.state_dict(), './my_reg_CNN_3D.pth')\n",
    "\n",
    "my_model = model\n",
    "            \n",
    "print('Finished Training')"
   ]
  },
  {
   "cell_type": "markdown",
   "metadata": {},
   "source": [
    "If needed, I can now reload the model using :\n",
    "\n",
    "```python\n",
    "my_model = Net()\n",
    "my_model.load_state_dict(torch.load('./my_reg_CNN_3D.pth'))\n",
    "```"
   ]
  },
  {
   "cell_type": "markdown",
   "metadata": {},
   "source": [
    "Now let's test it on the validation set :\n",
    "\n",
    "**1 - Computing directly the survival in days**"
   ]
  },
  {
   "cell_type": "code",
   "execution_count": null,
   "metadata": {
    "scrolled": true
   },
   "outputs": [],
   "source": [
    "# Evaluate the model on the validation set\n",
    "predictions = []\n",
    "my_model.eval()\n",
    "with torch.no_grad():\n",
    "    for patient_id in tqdm.tqdm(data_val.index):\n",
    "        patient_id_str = '00'+str(patient_id)\n",
    "        patient_id_str = patient_id_str[-3:]\n",
    "        path = 'patient_{}.npz'.format(patient_id_str)\n",
    "        img_path = os.path.join('training_data/images', path)\n",
    "        scan = np.load(img_path)['scan']\n",
    "        img = to_pixel_values(scan)\n",
    "        \n",
    "        img = img.copy().astype(np.float32, copy=True) / 255\n",
    "        img = img.reshape(1,1,92,92,92)\n",
    "        img = torch.from_numpy(img)\n",
    "        img = img.to(device)\n",
    "        output = my_model(img)*1000. # Because of our trick to prevent NaN issues in the training.\n",
    "        predictions.append(output.numpy())\n",
    "        \n",
    "predictions = pd.DataFrame(np.array(predictions).flatten(), columns=['SurvivalTime'], index=data_val.index)\n",
    "predictions"
   ]
  },
  {
   "cell_type": "code",
   "execution_count": 614,
   "metadata": {
    "scrolled": true
   },
   "outputs": [
    {
     "name": "stdout",
     "output_type": "stream",
     "text": [
      "Performance on the validation set (CI) : 0.268\n"
     ]
    }
   ],
   "source": [
    "pred = pd.concat([predictions, data_val['Event']], axis=1)\n",
    "    \n",
    "data_val.rename(columns={'label':'SurvivalTime'}, inplace=True)\n",
    "result = cindex(data_val[['SurvivalTime', 'Event']], pred)\n",
    "print('Performance on the validation set (CI) : {:.3f}'.format(result))"
   ]
  },
  {
   "cell_type": "markdown",
   "metadata": {},
   "source": [
    "> Hmm, unfortunately it really doesn't work that well..."
   ]
  },
  {
   "cell_type": "markdown",
   "metadata": {},
   "source": [
    "**2 - Use the 3D_CNN to extract relevant features**"
   ]
  },
  {
   "cell_type": "code",
   "execution_count": null,
   "metadata": {
    "scrolled": true
   },
   "outputs": [],
   "source": [
    "# Evaluate the model on the validation set\n",
    "model_list = list(my_model.children())[:-1]\n",
    "p1_model_list = model_list[:3] + [model_list[1]]\n",
    "p2_model_list = model_list[3:]\n",
    "trunc_model_p1 = nn.Sequential(*p1_model_list)\n",
    "trunc_model_p2 = nn.Sequential(*p2_model_list)\n",
    "features_img = np.ndarray((len(data),256))\n",
    "#trunc_model.eval()\n",
    "with torch.no_grad():\n",
    "    for idx, patient_id in tqdm.tqdm(enumerate(data.index)):\n",
    "        patient_id_str = '00'+str(patient_id)\n",
    "        patient_id_str = patient_id_str[-3:]\n",
    "        path = 'patient_{}.npz'.format(patient_id_str)\n",
    "        img_path = os.path.join('training_data/images', path)\n",
    "        scan = np.load(img_path)['scan']\n",
    "        img = to_pixel_values(scan)\n",
    "        \n",
    "        img = img.copy().astype(np.float32, copy=True) / 255\n",
    "        img = img.reshape(1,1,92,92,92)\n",
    "        img = torch.from_numpy(img)\n",
    "        img = img.to(device)\n",
    "        interm = trunc_model_p1(img)\n",
    "        interm = interm.view(-1, 32 * 19 * 19 * 19)\n",
    "        output = trunc_model_p2(interm)\n",
    "        features_img[idx] = output.numpy()\n",
    "        \n",
    "features_3D = pd.DataFrame(features_img, columns=['Feature_3D_{}'.format(k) for k in range(1,257)], \n",
    "                           index=data.index)\n",
    "features_3D"
   ]
  },
  {
   "cell_type": "markdown",
   "metadata": {},
   "source": [
    "**Lifelines :**"
   ]
  },
  {
   "cell_type": "code",
   "execution_count": 675,
   "metadata": {
    "scrolled": true
   },
   "outputs": [
    {
     "name": "stdout",
     "output_type": "stream",
     "text": [
      "n=236, number of events=129\n",
      "\n",
      "                                      coef    exp(coef)  se(coef)       z      p  lower 0.95  upper 0.95     \n",
      "SourceDataset                      -0.6825       0.5053    0.4308 -1.5843 0.1131     -1.5269      0.1618     \n",
      "Nstage                              0.3473       1.4152    0.0993  3.4968 0.0005      0.1526      0.5420  ***\n",
      "original_shape_Sphericity           3.8789      48.3715    1.9067  2.0343 0.0419      0.1418      7.6161    *\n",
      "original_shape_SurfaceVolumeRatio   3.1168      22.5737    1.5661  1.9902 0.0466      0.0473      6.1862    *\n",
      "original_shape_Maximum3DDiameter    0.0149       1.0150    0.0058  2.5635 0.0104      0.0035      0.0263    *\n",
      "original_glcm_JointEntropy          0.5250       1.6904    0.3400  1.5438 0.1226     -0.1415      1.1914     \n",
      "original_glcm_Idm                  14.1694 1424665.3772   26.0344  0.5443 0.5863    -36.8571     65.1960     \n",
      "original_glcm_Id                  -11.7568       0.0000   30.7865 -0.3819 0.7025    -72.0973     48.5836     \n",
      "Img_Feature_1                       0.6360       1.8890    0.2828  2.2487 0.0245      0.0817      1.1904    *\n",
      "Img_Feature_2                       2.9220      18.5792    1.7128  1.7061 0.0880     -0.4349      6.2790    .\n",
      "Img_Feature_3                      -0.8705       0.4187    0.9229 -0.9432 0.3456     -2.6793      0.9383     \n",
      "Img_Feature_4                      -1.8793       0.1527    1.3167 -1.4273 0.1535     -4.4599      0.7013     \n",
      "Img_Feature_5                       5.6821     293.5509    1.9003  2.9900 0.0028      1.9574      9.4067   **\n",
      "Img_Feature_6                       1.3009       3.6725    2.0134  0.6461 0.5182     -2.6453      5.2471     \n",
      "Img_Feature_7                      -1.0231       0.3595    2.0123 -0.5084 0.6111     -4.9671      2.9209     \n",
      "Img_Feature_8                       0.4939       1.6387    2.1302  0.2319 0.8167     -3.6813      4.6691     \n",
      "Img_Feature_9                       0.0860       1.0898    2.1121  0.0407 0.9675     -4.0537      4.2258     \n",
      "Img_Feature_10                     -7.0099       0.0009    2.6302 -2.6651 0.0077    -12.1650     -1.8547   **\n",
      "Img_Feature_11                     -6.7755       0.0011    2.8309 -2.3934 0.0167    -12.3240     -1.2269    *\n",
      "Img_Feature_12                     -2.5790       0.0759    3.0153 -0.8553 0.3924     -8.4889      3.3310     \n",
      "Img_Feature_13                      1.7869       5.9712    3.1238  0.5720 0.5673     -4.3355      7.9094     \n",
      "Img_Feature_14                      5.1078     165.2987    3.0872  1.6545 0.0980     -0.9431     11.1586    .\n",
      "Img_Feature_15                     -8.4087       0.0002    3.6013 -2.3349 0.0195    -15.4671     -1.3503    *\n",
      "Img_Feature_16                      1.2923       3.6410    3.2586  0.3966 0.6917     -5.0945      7.6790     \n",
      "Img_Feature_17                     -7.0862       0.0008    3.5172 -2.0147 0.0439    -13.9797     -0.1927    *\n",
      "Img_Feature_18                     -9.2047       0.0001    3.7620 -2.4468 0.0144    -16.5781     -1.8314    *\n",
      "Img_Feature_19                     -3.0491       0.0474    3.5046 -0.8700 0.3843     -9.9180      3.8198     \n",
      "Img_Feature_20                      3.3436      28.3218    3.7440  0.8931 0.3718     -3.9944     10.6817     \n",
      "Img_Feature_21                      5.2316     187.1005    3.7523  1.3943 0.1632     -2.1227     12.5860     \n",
      "Img_Feature_22                      9.9434   20814.7512    4.0232  2.4715 0.0135      2.0580     17.8288    *\n",
      "Img_Feature_23                     -0.3149       0.7298    4.4431 -0.0709 0.9435     -9.0232      8.3933     \n",
      "Img_Feature_24                      8.9886    8011.3131    4.2015  2.1394 0.0324      0.7538     17.2234    *\n",
      "Img_Feature_25                     -2.9617       0.0517    4.3906 -0.6746 0.5000    -11.5670      5.6437     \n",
      "Img_Feature_26                     -5.6198       0.0036    4.3220 -1.3003 0.1935    -14.0907      2.8511     \n",
      "Img_Feature_27                      4.4270      83.6764    4.4621  0.9921 0.3211     -4.3186     13.1725     \n",
      "Img_Feature_28                     -7.6700       0.0005    3.9335 -1.9499 0.0512    -15.3795      0.0394    .\n",
      "Img_Feature_29                      1.5581       4.7500    4.9905  0.3122 0.7549     -8.2230     11.3393     \n",
      "Img_Feature_30                     -4.2203       0.0147    4.7594 -0.8867 0.3752    -13.5486      5.1079     \n",
      "---\n",
      "Signif. codes:  0 '***' 0.001 '**' 0.01 '*' 0.05 '.' 0.1 ' ' 1 \n",
      "\n",
      "Concordance = 0.743\n",
      "Likelihood ratio test = 107.507 on 38 df, p=0.00000\n",
      "Performance on the validation set (CI) : 0.667\n"
     ]
    }
   ],
   "source": [
    "cph, features_names, reduced_data_train, reduced_data_val = test_img_dataframe(features_3D,\n",
    "                                                                               pca_size=30)"
   ]
  },
  {
   "cell_type": "code",
   "execution_count": 676,
   "metadata": {},
   "outputs": [
    {
     "name": "stdout",
     "output_type": "stream",
     "text": [
      "Performance on the validation set (CI) : 0.626\n",
      "Performance on the validation set (CI) : 0.640\n",
      "Performance on the validation set (CI) : 0.664\n",
      "n=236, number of events=129\n",
      "\n",
      "                                    coef  exp(coef)  se(coef)       z      p  lower 0.95  upper 0.95     \n",
      "Nstage                            0.3146     1.3697    0.0751  4.1906 0.0000      0.1674      0.4617  ***\n",
      "original_shape_Sphericity         3.9931    54.2232    1.2151  3.2863 0.0010      1.6116      6.3746   **\n",
      "original_shape_Maximum3DDiameter  0.0170     1.0171    0.0035  4.8348 0.0000      0.0101      0.0238  ***\n",
      "Img_Feature_18                   -7.4110     0.0006    3.3260 -2.2282 0.0259    -13.9297     -0.8922    *\n",
      "Img_Feature_22                    8.3972  4434.5470    3.7338  2.2490 0.0245      1.0792     15.7152    *\n",
      "Img_Feature_24                   10.9924 59420.7429    4.0739  2.6982 0.0070      3.0077     18.9771   **\n",
      "---\n",
      "Signif. codes:  0 '***' 0.001 '**' 0.01 '*' 0.05 '.' 0.1 ' ' 1 \n",
      "\n",
      "Concordance = 0.693\n",
      "Likelihood ratio test = 60.002 on 6 df, p=0.00000\n"
     ]
    }
   ],
   "source": [
    "lifelines_cox_param_selection(cph, features_names, reduced_data_train, reduced_data_val, p_value_thresh=0.05)"
   ]
  },
  {
   "cell_type": "markdown",
   "metadata": {},
   "source": [
    "**Scikit-survival :**"
   ]
  },
  {
   "cell_type": "code",
   "execution_count": 150,
   "metadata": {},
   "outputs": [
    {
     "name": "stdout",
     "output_type": "stream",
     "text": [
      "Performance on the training set (CI) : 0.674\n",
      "Performance on the validation set (CI) : 0.698\n"
     ]
    }
   ],
   "source": [
    "features_names = ['SurvivalTime', 'Event', 'SourceDataset', 'Nstage', \n",
    "                  'original_shape_Sphericity', 'original_shape_SurfaceVolumeRatio', \n",
    "                  'original_shape_Maximum3DDiameter', 'original_glcm_JointEntropy',\n",
    "                  'original_glcm_Idm','original_glcm_Id'] + list(reduced_img_features_df.columns)\n",
    "\n",
    "(cph, _, _) = predict_sksurv_cox(reduced_data_train, reduced_data_val, features_names, alpha=500, normalize=False)"
   ]
  },
  {
   "cell_type": "markdown",
   "metadata": {},
   "source": [
    "---\n",
    "\n",
    "### II - A - 4 ) Train our own small 3D CNN on a classification task and eventually use it to extract features"
   ]
  },
  {
   "cell_type": "markdown",
   "metadata": {},
   "source": [
    "Given the metric score (CI), we don't need to predict the exact survival in days in order to get a good score ! Thus, we will use the `argsort` function of numpy to get labels for classification."
   ]
  },
  {
   "cell_type": "code",
   "execution_count": 155,
   "metadata": {},
   "outputs": [
    {
     "name": "stdout",
     "output_type": "stream",
     "text": [
      "Classifier(\n",
      "  (conv1): Conv3d(1, 18, kernel_size=(5, 5, 5), stride=(1, 1, 1), dilation=(2, 2, 2))\n",
      "  (pool): MaxPool3d(kernel_size=2, stride=2, padding=0, dilation=1, ceil_mode=False)\n",
      "  (conv2): Conv3d(18, 32, kernel_size=(3, 3, 3), stride=(1, 1, 1), dilation=(2, 2, 2))\n",
      "  (fc1): Linear(in_features=219488, out_features=1024, bias=True)\n",
      "  (fc2): Linear(in_features=1024, out_features=256, bias=True)\n",
      "  (fc3): Linear(in_features=256, out_features=24, bias=True)\n",
      ")\n"
     ]
    }
   ],
   "source": [
    "class Classifier(nn.Module):\n",
    "    \n",
    "    def __init__(self, batch_size):\n",
    "        super(Classifier,self).__init__()\n",
    "        self.conv1 = nn.Conv3d(in_channels=1, out_channels=18, kernel_size=5, dilation=2)\n",
    "        #\n",
    "        self.pool = nn.MaxPool3d(2)\n",
    "        self.conv2 = nn.Conv3d(in_channels=18, out_channels=32, kernel_size=3, dilation=2)\n",
    "        self.fc1 = nn.Linear(32 * 19 * 19 * 19, 1024)\n",
    "        self.fc2 = nn.Linear(1024, 256)\n",
    "        self.fc3 = nn.Linear(256,batch_size)\n",
    "        \n",
    "    def forward(self,x):\n",
    "        x = self.pool(F.relu(self.conv1(x)))\n",
    "        x = self.pool(F.relu(self.conv2(x)))\n",
    "        x = x.view(-1, 32 * 19 * 19 * 19)\n",
    "        x = F.relu(self.fc1(x))\n",
    "        x = F.relu(self.fc2(x))\n",
    "        x = self.fc3(x)\n",
    "        return x\n",
    "\n",
    "model = Classifier(24)\n",
    "print(model) # Print the layers containing trainable parameters only."
   ]
  },
  {
   "cell_type": "code",
   "execution_count": 166,
   "metadata": {},
   "outputs": [
    {
     "name": "stdout",
     "output_type": "stream",
     "text": [
      "tensor([[ 0.0450,  0.0277, -0.0068, -0.0349,  0.0168, -0.0442,  0.0348, -0.0099,\n",
      "          0.0241,  0.0138, -0.0211, -0.0323,  0.0665,  0.0033, -0.0293, -0.0383,\n",
      "         -0.0395, -0.0371,  0.0352,  0.0307, -0.0002,  0.0362, -0.0644, -0.0416],\n",
      "        [ 0.0453,  0.0295, -0.0043, -0.0367,  0.0173, -0.0447,  0.0385, -0.0091,\n",
      "          0.0226,  0.0149, -0.0230, -0.0316,  0.0671,  0.0019, -0.0299, -0.0341,\n",
      "         -0.0390, -0.0389,  0.0366,  0.0305, -0.0001,  0.0394, -0.0638, -0.0442],\n",
      "        [ 0.0451,  0.0250, -0.0034, -0.0314,  0.0187, -0.0445,  0.0347, -0.0091,\n",
      "          0.0228,  0.0161, -0.0190, -0.0353,  0.0656,  0.0059, -0.0253, -0.0363,\n",
      "         -0.0379, -0.0352,  0.0364,  0.0283, -0.0002,  0.0370, -0.0657, -0.0437],\n",
      "        [ 0.0414,  0.0279, -0.0094, -0.0342,  0.0197, -0.0442,  0.0324, -0.0065,\n",
      "          0.0202,  0.0131, -0.0230, -0.0317,  0.0701,  0.0033, -0.0297, -0.0344,\n",
      "         -0.0412, -0.0377,  0.0363,  0.0312,  0.0018,  0.0372, -0.0633, -0.0430],\n",
      "        [ 0.0486,  0.0276, -0.0051, -0.0363,  0.0221, -0.0435,  0.0389, -0.0067,\n",
      "          0.0240,  0.0195, -0.0244, -0.0323,  0.0661,  0.0019, -0.0264, -0.0391,\n",
      "         -0.0370, -0.0375,  0.0309,  0.0285,  0.0038,  0.0405, -0.0602, -0.0424],\n",
      "        [ 0.0492,  0.0234, -0.0010, -0.0328,  0.0212, -0.0440,  0.0369, -0.0118,\n",
      "          0.0237,  0.0151, -0.0214, -0.0336,  0.0659,  0.0044, -0.0283, -0.0392,\n",
      "         -0.0375, -0.0359,  0.0340,  0.0303,  0.0044,  0.0398, -0.0656, -0.0408],\n",
      "        [ 0.0458,  0.0290, -0.0039, -0.0341,  0.0186, -0.0423,  0.0363, -0.0088,\n",
      "          0.0202,  0.0161, -0.0221, -0.0336,  0.0672,  0.0020, -0.0310, -0.0369,\n",
      "         -0.0388, -0.0365,  0.0363,  0.0306,  0.0014,  0.0377, -0.0647, -0.0418],\n",
      "        [ 0.0465,  0.0277, -0.0030, -0.0368,  0.0191, -0.0431,  0.0333, -0.0088,\n",
      "          0.0225,  0.0150, -0.0259, -0.0351,  0.0696,  0.0055, -0.0295, -0.0365,\n",
      "         -0.0372, -0.0388,  0.0380,  0.0304,  0.0006,  0.0358, -0.0684, -0.0419],\n",
      "        [ 0.0463,  0.0250, -0.0046, -0.0319,  0.0169, -0.0432,  0.0356, -0.0096,\n",
      "          0.0225,  0.0174, -0.0211, -0.0371,  0.0667,  0.0041, -0.0273, -0.0362,\n",
      "         -0.0383, -0.0404,  0.0359,  0.0280,  0.0030,  0.0356, -0.0674, -0.0432],\n",
      "        [ 0.0464,  0.0301, -0.0055, -0.0371,  0.0204, -0.0444,  0.0358, -0.0106,\n",
      "          0.0237,  0.0155, -0.0244, -0.0331,  0.0670,  0.0005, -0.0290, -0.0355,\n",
      "         -0.0350, -0.0402,  0.0344,  0.0303, -0.0015,  0.0372, -0.0636, -0.0421],\n",
      "        [ 0.0455,  0.0265, -0.0056, -0.0366,  0.0201, -0.0450,  0.0341, -0.0135,\n",
      "          0.0235,  0.0153, -0.0240, -0.0352,  0.0679,  0.0085, -0.0283, -0.0360,\n",
      "         -0.0388, -0.0346,  0.0362,  0.0293, -0.0021,  0.0349, -0.0626, -0.0438],\n",
      "        [ 0.0463,  0.0273, -0.0048, -0.0322,  0.0190, -0.0453,  0.0387, -0.0060,\n",
      "          0.0234,  0.0170, -0.0234, -0.0342,  0.0664,  0.0032, -0.0266, -0.0407,\n",
      "         -0.0366, -0.0372,  0.0362,  0.0309, -0.0007,  0.0353, -0.0647, -0.0450],\n",
      "        [ 0.0445,  0.0267, -0.0068, -0.0349,  0.0150, -0.0458,  0.0368, -0.0069,\n",
      "          0.0218,  0.0161, -0.0212, -0.0348,  0.0657,  0.0060, -0.0269, -0.0354,\n",
      "         -0.0399, -0.0331,  0.0337,  0.0294,  0.0017,  0.0396, -0.0623, -0.0436],\n",
      "        [ 0.0457,  0.0267, -0.0026, -0.0356,  0.0211, -0.0445,  0.0373, -0.0103,\n",
      "          0.0203,  0.0149, -0.0217, -0.0352,  0.0694,  0.0044, -0.0274, -0.0352,\n",
      "         -0.0393, -0.0364,  0.0383,  0.0306, -0.0025,  0.0376, -0.0627, -0.0447],\n",
      "        [ 0.0470,  0.0284, -0.0035, -0.0372,  0.0178, -0.0426,  0.0347, -0.0119,\n",
      "          0.0203,  0.0161, -0.0230, -0.0316,  0.0664,  0.0046, -0.0260, -0.0366,\n",
      "         -0.0393, -0.0339,  0.0353,  0.0311,  0.0004,  0.0375, -0.0666, -0.0416],\n",
      "        [ 0.0481,  0.0297, -0.0036, -0.0359,  0.0220, -0.0409,  0.0365, -0.0088,\n",
      "          0.0228,  0.0206, -0.0261, -0.0356,  0.0682, -0.0011, -0.0287, -0.0350,\n",
      "         -0.0349, -0.0402,  0.0333,  0.0284,  0.0023,  0.0349, -0.0633, -0.0424],\n",
      "        [ 0.0390,  0.0305, -0.0097, -0.0345,  0.0207, -0.0489,  0.0370, -0.0031,\n",
      "          0.0254,  0.0170, -0.0212, -0.0293,  0.0737,  0.0047, -0.0297, -0.0342,\n",
      "         -0.0407, -0.0390,  0.0335,  0.0307, -0.0014,  0.0367, -0.0675, -0.0444],\n",
      "        [ 0.0463,  0.0295, -0.0050, -0.0377,  0.0228, -0.0424,  0.0381, -0.0106,\n",
      "          0.0223,  0.0190, -0.0259, -0.0316,  0.0687,  0.0028, -0.0292, -0.0361,\n",
      "         -0.0385, -0.0382,  0.0351,  0.0308,  0.0003,  0.0384, -0.0604, -0.0437],\n",
      "        [ 0.0472,  0.0270, -0.0050, -0.0339,  0.0191, -0.0455,  0.0337, -0.0126,\n",
      "          0.0206,  0.0149, -0.0239, -0.0346,  0.0661,  0.0057, -0.0264, -0.0362,\n",
      "         -0.0367, -0.0352,  0.0358,  0.0298, -0.0002,  0.0391, -0.0629, -0.0394],\n",
      "        [ 0.0466,  0.0269, -0.0019, -0.0369,  0.0195, -0.0445,  0.0353, -0.0131,\n",
      "          0.0258,  0.0154, -0.0216, -0.0339,  0.0671,  0.0032, -0.0279, -0.0367,\n",
      "         -0.0393, -0.0364,  0.0362,  0.0306,  0.0014,  0.0378, -0.0647, -0.0415],\n",
      "        [ 0.0430,  0.0256, -0.0012, -0.0339,  0.0186, -0.0474,  0.0358, -0.0088,\n",
      "          0.0215,  0.0145, -0.0202, -0.0351,  0.0671,  0.0058, -0.0273, -0.0351,\n",
      "         -0.0387, -0.0356,  0.0368,  0.0263, -0.0023,  0.0379, -0.0623, -0.0396],\n",
      "        [ 0.0476,  0.0272, -0.0081, -0.0326,  0.0197, -0.0443,  0.0351, -0.0063,\n",
      "          0.0231,  0.0162, -0.0246, -0.0346,  0.0682,  0.0029, -0.0266, -0.0390,\n",
      "         -0.0348, -0.0386,  0.0343,  0.0301,  0.0011,  0.0390, -0.0671, -0.0427],\n",
      "        [ 0.0447,  0.0268, -0.0054, -0.0323,  0.0164, -0.0453,  0.0345, -0.0088,\n",
      "          0.0189,  0.0150, -0.0180, -0.0338,  0.0676,  0.0051, -0.0270, -0.0355,\n",
      "         -0.0374, -0.0360,  0.0368,  0.0283,  0.0026,  0.0373, -0.0654, -0.0419],\n",
      "        [ 0.0469,  0.0282, -0.0025, -0.0374,  0.0203, -0.0432,  0.0404, -0.0122,\n",
      "          0.0213,  0.0180, -0.0223, -0.0337,  0.0673,  0.0024, -0.0266, -0.0380,\n",
      "         -0.0363, -0.0404,  0.0346,  0.0293,  0.0008,  0.0395, -0.0658, -0.0418]],\n",
      "       grad_fn=<AddmmBackward>) tensor([[15],\n",
      "        [23],\n",
      "        [ 9],\n",
      "        [20],\n",
      "        [16],\n",
      "        [ 2],\n",
      "        [ 4],\n",
      "        [ 3],\n",
      "        [ 0],\n",
      "        [18],\n",
      "        [21],\n",
      "        [ 8],\n",
      "        [ 6],\n",
      "        [10],\n",
      "        [11],\n",
      "        [19],\n",
      "        [13],\n",
      "        [ 7],\n",
      "        [ 1],\n",
      "        [ 5],\n",
      "        [14],\n",
      "        [22],\n",
      "        [17],\n",
      "        [12]], dtype=torch.int32)\n"
     ]
    },
    {
     "ename": "RuntimeError",
     "evalue": "Expected object of scalar type Long but got scalar type Int for argument #2 'target'",
     "output_type": "error",
     "traceback": [
      "\u001b[0;31m---------------------------------------------------------------------------\u001b[0m",
      "\u001b[0;31mRuntimeError\u001b[0m                              Traceback (most recent call last)",
      "\u001b[0;32m<ipython-input-166-a5581ea3796f>\u001b[0m in \u001b[0;36m<module>\u001b[0;34m\u001b[0m\n\u001b[1;32m     37\u001b[0m         \u001b[0moutputs\u001b[0m \u001b[0;34m=\u001b[0m \u001b[0mmodel\u001b[0m\u001b[0;34m(\u001b[0m\u001b[0minputs\u001b[0m\u001b[0;34m)\u001b[0m\u001b[0;34m\u001b[0m\u001b[0;34m\u001b[0m\u001b[0m\n\u001b[1;32m     38\u001b[0m         \u001b[0mprint\u001b[0m\u001b[0;34m(\u001b[0m\u001b[0moutputs\u001b[0m\u001b[0;34m,\u001b[0m \u001b[0mlabels\u001b[0m\u001b[0;34m)\u001b[0m\u001b[0;34m\u001b[0m\u001b[0;34m\u001b[0m\u001b[0m\n\u001b[0;32m---> 39\u001b[0;31m         \u001b[0mloss\u001b[0m \u001b[0;34m=\u001b[0m \u001b[0mloss_function\u001b[0m\u001b[0;34m(\u001b[0m\u001b[0moutputs\u001b[0m\u001b[0;34m,\u001b[0m \u001b[0mlabels\u001b[0m\u001b[0;34m)\u001b[0m\u001b[0;34m\u001b[0m\u001b[0;34m\u001b[0m\u001b[0m\n\u001b[0m\u001b[1;32m     40\u001b[0m         \u001b[0mloss\u001b[0m\u001b[0;34m.\u001b[0m\u001b[0mbackward\u001b[0m\u001b[0;34m(\u001b[0m\u001b[0;34m)\u001b[0m\u001b[0;34m\u001b[0m\u001b[0;34m\u001b[0m\u001b[0m\n\u001b[1;32m     41\u001b[0m         \u001b[0moptimizer\u001b[0m\u001b[0;34m.\u001b[0m\u001b[0mstep\u001b[0m\u001b[0;34m(\u001b[0m\u001b[0;34m)\u001b[0m\u001b[0;34m\u001b[0m\u001b[0;34m\u001b[0m\u001b[0m\n",
      "\u001b[0;32m/anaconda3/lib/python3.6/site-packages/torch/nn/functional.py\u001b[0m in \u001b[0;36mcross_entropy\u001b[0;34m(input, target, weight, size_average, ignore_index, reduce, reduction)\u001b[0m\n\u001b[1;32m   1968\u001b[0m     \u001b[0;32mif\u001b[0m \u001b[0msize_average\u001b[0m \u001b[0;32mis\u001b[0m \u001b[0;32mnot\u001b[0m \u001b[0;32mNone\u001b[0m \u001b[0;32mor\u001b[0m \u001b[0mreduce\u001b[0m \u001b[0;32mis\u001b[0m \u001b[0;32mnot\u001b[0m \u001b[0;32mNone\u001b[0m\u001b[0;34m:\u001b[0m\u001b[0;34m\u001b[0m\u001b[0;34m\u001b[0m\u001b[0m\n\u001b[1;32m   1969\u001b[0m         \u001b[0mreduction\u001b[0m \u001b[0;34m=\u001b[0m \u001b[0m_Reduction\u001b[0m\u001b[0;34m.\u001b[0m\u001b[0mlegacy_get_string\u001b[0m\u001b[0;34m(\u001b[0m\u001b[0msize_average\u001b[0m\u001b[0;34m,\u001b[0m \u001b[0mreduce\u001b[0m\u001b[0;34m)\u001b[0m\u001b[0;34m\u001b[0m\u001b[0;34m\u001b[0m\u001b[0m\n\u001b[0;32m-> 1970\u001b[0;31m     \u001b[0;32mreturn\u001b[0m \u001b[0mnll_loss\u001b[0m\u001b[0;34m(\u001b[0m\u001b[0mlog_softmax\u001b[0m\u001b[0;34m(\u001b[0m\u001b[0minput\u001b[0m\u001b[0;34m,\u001b[0m \u001b[0;36m1\u001b[0m\u001b[0;34m)\u001b[0m\u001b[0;34m,\u001b[0m \u001b[0mtarget\u001b[0m\u001b[0;34m,\u001b[0m \u001b[0mweight\u001b[0m\u001b[0;34m,\u001b[0m \u001b[0;32mNone\u001b[0m\u001b[0;34m,\u001b[0m \u001b[0mignore_index\u001b[0m\u001b[0;34m,\u001b[0m \u001b[0;32mNone\u001b[0m\u001b[0;34m,\u001b[0m \u001b[0mreduction\u001b[0m\u001b[0;34m)\u001b[0m\u001b[0;34m\u001b[0m\u001b[0;34m\u001b[0m\u001b[0m\n\u001b[0m\u001b[1;32m   1971\u001b[0m \u001b[0;34m\u001b[0m\u001b[0m\n\u001b[1;32m   1972\u001b[0m \u001b[0;34m\u001b[0m\u001b[0m\n",
      "\u001b[0;32m/anaconda3/lib/python3.6/site-packages/torch/nn/functional.py\u001b[0m in \u001b[0;36mnll_loss\u001b[0;34m(input, target, weight, size_average, ignore_index, reduce, reduction)\u001b[0m\n\u001b[1;32m   1788\u001b[0m                          .format(input.size(0), target.size(0)))\n\u001b[1;32m   1789\u001b[0m     \u001b[0;32mif\u001b[0m \u001b[0mdim\u001b[0m \u001b[0;34m==\u001b[0m \u001b[0;36m2\u001b[0m\u001b[0;34m:\u001b[0m\u001b[0;34m\u001b[0m\u001b[0;34m\u001b[0m\u001b[0m\n\u001b[0;32m-> 1790\u001b[0;31m         \u001b[0mret\u001b[0m \u001b[0;34m=\u001b[0m \u001b[0mtorch\u001b[0m\u001b[0;34m.\u001b[0m\u001b[0m_C\u001b[0m\u001b[0;34m.\u001b[0m\u001b[0m_nn\u001b[0m\u001b[0;34m.\u001b[0m\u001b[0mnll_loss\u001b[0m\u001b[0;34m(\u001b[0m\u001b[0minput\u001b[0m\u001b[0;34m,\u001b[0m \u001b[0mtarget\u001b[0m\u001b[0;34m,\u001b[0m \u001b[0mweight\u001b[0m\u001b[0;34m,\u001b[0m \u001b[0m_Reduction\u001b[0m\u001b[0;34m.\u001b[0m\u001b[0mget_enum\u001b[0m\u001b[0;34m(\u001b[0m\u001b[0mreduction\u001b[0m\u001b[0;34m)\u001b[0m\u001b[0;34m,\u001b[0m \u001b[0mignore_index\u001b[0m\u001b[0;34m)\u001b[0m\u001b[0;34m\u001b[0m\u001b[0;34m\u001b[0m\u001b[0m\n\u001b[0m\u001b[1;32m   1791\u001b[0m     \u001b[0;32melif\u001b[0m \u001b[0mdim\u001b[0m \u001b[0;34m==\u001b[0m \u001b[0;36m4\u001b[0m\u001b[0;34m:\u001b[0m\u001b[0;34m\u001b[0m\u001b[0;34m\u001b[0m\u001b[0m\n\u001b[1;32m   1792\u001b[0m         \u001b[0mret\u001b[0m \u001b[0;34m=\u001b[0m \u001b[0mtorch\u001b[0m\u001b[0;34m.\u001b[0m\u001b[0m_C\u001b[0m\u001b[0;34m.\u001b[0m\u001b[0m_nn\u001b[0m\u001b[0;34m.\u001b[0m\u001b[0mnll_loss2d\u001b[0m\u001b[0;34m(\u001b[0m\u001b[0minput\u001b[0m\u001b[0;34m,\u001b[0m \u001b[0mtarget\u001b[0m\u001b[0;34m,\u001b[0m \u001b[0mweight\u001b[0m\u001b[0;34m,\u001b[0m \u001b[0m_Reduction\u001b[0m\u001b[0;34m.\u001b[0m\u001b[0mget_enum\u001b[0m\u001b[0;34m(\u001b[0m\u001b[0mreduction\u001b[0m\u001b[0;34m)\u001b[0m\u001b[0;34m,\u001b[0m \u001b[0mignore_index\u001b[0m\u001b[0;34m)\u001b[0m\u001b[0;34m\u001b[0m\u001b[0;34m\u001b[0m\u001b[0m\n",
      "\u001b[0;31mRuntimeError\u001b[0m: Expected object of scalar type Long but got scalar type Int for argument #2 'target'"
     ]
    }
   ],
   "source": [
    "import torch.optim as optim\n",
    "\n",
    "batch_size = 24\n",
    "\n",
    "train_dataset = SurvivalDataset(image_dir='training_data/images', info_file=data_train, split_name='train')\n",
    "train_data_loader = torch.utils.data.DataLoader(train_dataset,batch_size=batch_size,\n",
    "                                                num_workers=0, drop_last=True)\n",
    "validation_dataset = SurvivalDataset(image_dir='training_data/images', info_file=data_val, split_name='val')\n",
    "val_data_loader = torch.utils.data.DataLoader(validation_dataset,batch_size=batch_size,\n",
    "                                              num_workers=0, drop_last=True)\n",
    "\n",
    "device = torch.device('cuda') if torch.cuda.is_available() else torch.device('cpu')\n",
    "model = Classifier(batch_size)\n",
    "model.to(device)\n",
    "\n",
    "loss_function = F.cross_entropy\n",
    "optimizer = optim.Adam(model.parameters(), lr=0.001)\n",
    "\n",
    "model.train()\n",
    "for epoch in range(3): # loop over the dataset multiple times\n",
    "    avg_loss = 0.0\n",
    "    for batch_idx, (inputs, labels) in enumerate(train_data_loader,0): \n",
    "        labels = labels['label']\n",
    "        orders = torch.argsort(labels)\n",
    "        for idx, ordr in enumerate(orders):\n",
    "            labels[ordr] = idx\n",
    "            \n",
    "        labels = labels.type(torch.int64)\n",
    "        # get the inputs\n",
    "        inputs, labels = inputs.to(device), labels.to(device)\n",
    "        \n",
    "        # zero the parameter gradients\n",
    "        optimizer.zero_grad()\n",
    "        \n",
    "        # forward + backward + optimize\n",
    "        outputs = model(inputs)\n",
    "        print(outputs, labels)\n",
    "        loss = loss_function(outputs, labels)\n",
    "        loss.backward()\n",
    "        optimizer.step()\n",
    "            \n",
    "        if avg_loss == 0 : \n",
    "            avg_loss = loss.item()\n",
    "        avg_loss = 0.9 * avg_loss + 0.1 * loss.item()\n",
    "        if batch_idx % 1 == 0:\n",
    "            print('Train Epoch: {} [{}/{} ({:.0f}%)]\\tavg Loss: {:.6e}\\t Loss: {:.6e}'.format(\n",
    "                epoch, batch_idx * len(inputs), len(train_data_loader.dataset),\n",
    "                100. * batch_idx / len(train_data_loader), avg_loss, loss.item()))\n",
    "    \n",
    "    # Evaluate the model on the validation set\n",
    "    model.eval()\n",
    "    with torch.no_grad():\n",
    "        validation_loss = 0\n",
    "        for batch_idx, (inputs, labels) in enumerate(val_data_loader):\n",
    "            labels = labels['label']\n",
    "            orders = torch.argsort(labels)\n",
    "            for idx, ordr in enumerate(orders):\n",
    "                labels[ordr] = [idx]\n",
    "            \n",
    "            labels = labels.type(torch.int64)\n",
    "            inputs, labels = inputs.to(device), labels.to(device)\n",
    "            output = model(inputs)\n",
    "            validation_loss += loss_function(output, labels).item()  # sum up batch loss\n",
    "\n",
    "        val_loss = validation_loss/len(val_data_loader)\n",
    "        print('epoch : {}, val_loss : {}'.format(epoch, val_loss))\n",
    "        \n",
    "torch.save(model.state_dict(), './my_Cla_CNN_3D.pth')\n",
    "\n",
    "my_model = model\n",
    "            \n",
    "print('Finished Training')"
   ]
  },
  {
   "cell_type": "markdown",
   "metadata": {},
   "source": [
    "## II - B ) Build my own cox model"
   ]
  },
  {
   "cell_type": "code",
   "execution_count": null,
   "metadata": {},
   "outputs": [],
   "source": []
  }
 ],
 "metadata": {
  "kernelspec": {
   "display_name": "Python 3",
   "language": "python",
   "name": "python3"
  },
  "language_info": {
   "codemirror_mode": {
    "name": "ipython",
    "version": 3
   },
   "file_extension": ".py",
   "mimetype": "text/x-python",
   "name": "python",
   "nbconvert_exporter": "python",
   "pygments_lexer": "ipython3",
   "version": "3.6.9"
  }
 },
 "nbformat": 4,
 "nbformat_minor": 2
}
